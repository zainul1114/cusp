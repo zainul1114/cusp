{
 "cells": [
  {
   "cell_type": "code",
   "execution_count": 1,
   "metadata": {},
   "outputs": [
    {
     "name": "stdout",
     "output_type": "stream",
     "text": [
      "o: 5\n",
      "l: 4\n",
      "e: 4\n",
      " : 3\n",
      "c: 2\n",
      "i: 2\n",
      "g: 2\n",
      "W: 1\n",
      "C: 1\n",
      "h: 1\n",
      "s: 1\n",
      "m: 1\n",
      "t: 1\n",
      "a: 1\n",
      "T: 1\n",
      "n: 1\n"
     ]
    }
   ],
   "source": [
    "from pyspark import SparkContext\n",
    "sc.stop()\n",
    "from operator import add\n",
    "sc = SparkContext()\n",
    "data = sc.parallelize(list(\"Welcome to Calligo Technologies\"))\n",
    "counts = data.map(lambda x: (x, 1)).reduceByKey(add).sortBy(lambda x: x[1], ascending=False).collect()\n",
    "for (word, count) in counts:\n",
    "    print(\"{}: {}\".format(word, count))\n",
    "sc.stop()"
   ]
  },
  {
   "cell_type": "code",
   "execution_count": 2,
   "metadata": {},
   "outputs": [
    {
     "name": "stdout",
     "output_type": "stream",
     "text": [
      "+-------+-------------------+-----------+\n",
      "|user_id|         occured_at| event_type|\n",
      "+-------+-------------------+-----------+\n",
      "|     16|2014-06-04T09:33:02| engagement|\n",
      "|     16|2014-08-18T09:32:27| engagement|\n",
      "|     16|2014-06-28T15:03:59|signup_flow|\n",
      "|   1547|2014-06-16T17:25:51| engagement|\n",
      "|   1547|2014-07-09T01:42:40| engagement|\n",
      "+-------+-------------------+-----------+\n",
      "\n"
     ]
    }
   ],
   "source": [
    "from pyspark.sql import SparkSession\n",
    "from pyspark.sql.types import *\n",
    "\n",
    "spark = SparkSession\\\n",
    "    .builder\\\n",
    "    .config(\"spark.executor.instances\", \"2\")\\\n",
    "    .config(\"spark.executor.cores\", \"2\")\\\n",
    "    .config(\"spark.executor.memory\", \"2g\")\\\n",
    "    .config(\"spark.driver.memory\", \"2g\")\\\n",
    "    .getOrCreate()\n",
    "schema = StructType([StructField(\"user_id\", StringType()), \n",
    "                      StructField(\"occured_at\", StringType()), \n",
    "                      StructField(\"event_type\", StringType())])\n",
    "test_list = (\n",
    "[['16','2014-06-04T09:33:02','engagement'],\n",
    "['16','2014-08-18T09:32:27','engagement'],\n",
    "['16','2014-06-28T15:03:59','signup_flow'],\n",
    "['1547','2014-06-16T17:25:51','engagement'],\n",
    "['1547','2014-07-09T01:42:40','engagement']]\n",
    ")\n",
    "df = spark.createDataFrame(test_list, schema)\n",
    "\n",
    "df.show()\n"
   ]
  }
 ],
 "metadata": {
  "kernelspec": {
   "display_name": "PySpark(Spark-2.3.3)",
   "language": "python",
   "name": "pyspark"
  },
  "language_info": {
   "codemirror_mode": {
    "name": "ipython",
    "version": 3
   },
   "file_extension": ".py",
   "mimetype": "text/x-python",
   "name": "python",
   "nbconvert_exporter": "python",
   "pygments_lexer": "ipython3",
   "version": "3.6.9"
  }
 },
 "nbformat": 4,
 "nbformat_minor": 4
}
