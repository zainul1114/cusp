{
 "cells": [
  {
   "cell_type": "code",
   "execution_count": null,
   "metadata": {},
   "outputs": [],
   "source": [
    "##Features of Python:\n",
    "\n",
    "Python is a widely used general-purpose, high-level programming language.\n",
    "Python allows programming in Object-Oriented and Procedural paradigms.\n",
    "Python programs generally are smaller than other programming languages like Java. \n",
    "Programmers have to type relatively less and indentation requirement of the language, makes them readable all the time.\n",
    "Python language is being used by almost all tech-giant companies like – Google, Amazon, Facebook, Instagram, Dropbox, Uber… etc.\n",
    "The biggest strength of the Python is large library which can be used for the following\n",
    "        Machine Learning\n",
    "        GUI Applications (like Kivy, Tkinter, PyQt etc. )\n",
    "        Web frameworks like Django (used by YouTube, Instagram, Dropbox)\n",
    "        Image processing (like OpenCV, Pillow)\n",
    "        Web scraping (like Scrapy, BeautifulSoup, Selenium)\n",
    "        Test frameworks\n",
    "        Multimedia\n",
    "        Scientific computing\n",
    "        Text processing and many more..\n",
    "\n",
    "Simple and Easy to Learn: \n",
    "Python is simple and easy to learn, read and write.\n",
    "\n",
    "Free and open source: \n",
    "Python is a free and open source software which means that a user can edit, modify or reuse the softwares source code. \n",
    "This gives the programmers an opportunity to improve the program functionality by modifying it.\n",
    "\n",
    "Interpreted Language: Python is an interpreted language, which means when we execute a python program, \n",
    "the interpreter executes the code line by line at a time. This makes debugging easy and thus is suitable for beginners.\n",
    "\n",
    "Python is Interactive: \n",
    "Interactive mode is a command line shell which gives immediate response for each statement.\n",
    "\n",
    "Portable: Python supports many platforms like Linux, Windows, MacOS, and Solaris.\n",
    "\n",
    "Object-Oriented: \n",
    "Python supports Object-Oriented technique of programming which provides a means of structuring \n",
    "programs so that properties and behaviors are bundled into individual objects.\n",
    "\n",
    "Supports different programming models: \n",
    "Python supports procedure-oriented programming as well as object-oriented programming.\n",
    "\n",
    "Flexible: \n",
    "Python code can invoke C and C++ libraries and can be called from and C++ programs,nd can integrate with Java and .Net."
   ]
  },
  {
   "cell_type": "code",
   "execution_count": null,
   "metadata": {},
   "outputs": [],
   "source": [
    "#https://ipython.readthedocs.io/en/stable/interactive/magics.html#\n",
    "#https://www.softwaretestinghelp.com/python/\n",
    "#https://www.learnpython.org/\n",
    "\n",
    "#https://data-flair.training/blogs/python-tutorial/\n",
    "#https://www.geeksforgeeks.org/python-programming-language/\n",
    "\n",
    "#Nbconvert is part of the Jupyter ecosystem.\n",
    "#https://nbconvert.readthedocs.io/en/latest/install.html#installing-tex.\n",
    "#Pip install nbconvert\n",
    "#yum -y install pandoc texlive texlive-latex texlive-xetex texlive-collection-xetex \n",
    "#yum -y install texlive-tcolorbox"
   ]
  },
  {
   "cell_type": "code",
   "execution_count": null,
   "metadata": {},
   "outputs": [],
   "source": [
    "##Learn the Basics:\n",
    "Hello, World!\n",
    "\n",
    "1. Python Introduction and Installation\n",
    "2. Python Variables\n",
    "3. Python Data Types\n",
    "4. Python Operator\n",
    "5. Python Conditional Statements: if_else, elif, nested if statements\n",
    "5. Looping in Python\n",
    "6. Python Control Statements\n",
    "7. Python Functions\n",
    "8. Input-Output and Files in Python\n",
    "9. Python OOPs concept\n",
    "10. Python DateTime\n",
    "11. Python String Functions\n",
    "12. Python File Handling\n",
    "13. Python Main Function"
   ]
  },
  {
   "cell_type": "code",
   "execution_count": null,
   "metadata": {},
   "outputs": [],
   "source": [
    "##Hello, World!\n",
    "\n",
    "Python is a very simple language, and has a very straightforward syntax. It encourages programmers\n",
    "to program without boilerplate (prepared) code. The simplest directive in Python is the \"print\" \n",
    "directive - it simply prints out a line (and also includes a newline, unlike in C).\n",
    "\n",
    "For example, one difference between Python 2 and 3 is the print statement. In Python 2, the \"print\" \n",
    "statement is not a function,\n",
    "and therefore it is invoked without parentheses. However, in Python 3, it is a function, \n",
    "and must be invoked with parentheses.\n",
    "\n",
    "To print a string in Python 3, just write:\n",
    "print(\"This line will be printed.\")\n",
    "print(\"Hello World.\")\n"
   ]
  },
  {
   "cell_type": "code",
   "execution_count": 1,
   "metadata": {},
   "outputs": [
    {
     "name": "stdout",
     "output_type": "stream",
     "text": [
      "Hello World.\n"
     ]
    }
   ],
   "source": [
    "print(\"Hello World.\")"
   ]
  },
  {
   "cell_type": "code",
   "execution_count": null,
   "metadata": {},
   "outputs": [],
   "source": [
    "##Python Variables\n",
    "A variable means holding a value or reserving memory location to store values. \n",
    "In variable, you can store any kind of values by using appropriate data types.\n",
    "\n",
    "In Python, variables do not need a declaration to reserve memory space. \n",
    "The \"variable declaration\" or \"variable initialization\" happens automatically\n",
    "when we assign a value to a variable.\n",
    "\n",
    "#How to Declare and use a Variable\n",
    "To declare a variable we use \"=\" to assign the value to a variable.\n",
    "\n",
    "Ex:\n",
    "Number= 25\n",
    "Name = \"Calligo\"\n",
    "a= 3.5\n",
    "print(Number)\n",
    "print(Name)\n",
    "print(a)\n"
   ]
  },
  {
   "cell_type": "code",
   "execution_count": 5,
   "metadata": {},
   "outputs": [
    {
     "name": "stdout",
     "output_type": "stream",
     "text": [
      "Number\n",
      "2020\n",
      "Calligo\n",
      "3.5\n"
     ]
    }
   ],
   "source": [
    "Number= 2020\n",
    "a\n",
    "a= 3.5\n",
    "print(\"Number\")\n",
    "print(Number)\n",
    "print(Name)\n",
    "print(a)\n"
   ]
  },
  {
   "cell_type": "code",
   "execution_count": null,
   "metadata": {},
   "outputs": [],
   "source": [
    "#Re-declare a Variable\n",
    "We can re-declare a variable at any point of time even after you have declared it once.\n"
   ]
  },
  {
   "cell_type": "code",
   "execution_count": 8,
   "metadata": {},
   "outputs": [
    {
     "name": "stdout",
     "output_type": "stream",
     "text": [
      "Calligo\n",
      "CalligoTech\n"
     ]
    }
   ],
   "source": [
    "name= \"Calligo\"\n",
    "print(name)\n",
    "name= \"CalligoTech\"\n",
    "print(name)"
   ]
  },
  {
   "cell_type": "code",
   "execution_count": null,
   "metadata": {},
   "outputs": [],
   "source": [
    "#Multiple Assignment\n",
    "In Python, \n",
    "we can assign the same value to multiple variables at once.\n",
    "We can also assign multiple values to multiple variables."
   ]
  },
  {
   "cell_type": "code",
   "execution_count": 9,
   "metadata": {},
   "outputs": [
    {
     "name": "stdout",
     "output_type": "stream",
     "text": [
      "multiple variables\n",
      "multiple variables\n",
      "multiple variables\n"
     ]
    }
   ],
   "source": [
    "x = y = z = \"multiple variables\"\n",
    "print (x)\n",
    "print (y)\n",
    "print (z)"
   ]
  },
  {
   "cell_type": "code",
   "execution_count": 45,
   "metadata": {},
   "outputs": [
    {
     "name": "stdout",
     "output_type": "stream",
     "text": [
      "7\n",
      "14.5\n",
      "Welcome\n"
     ]
    }
   ],
   "source": [
    "a, b, c= 7, 14.5, \"Welcome\"\n",
    "print (a)\n",
    "print (b)\n",
    "print (c)"
   ]
  },
  {
   "cell_type": "code",
   "execution_count": null,
   "metadata": {},
   "outputs": [],
   "source": [
    "#Python Data Types\n",
    "A Data Type describes the characteristic of a variable.\n",
    "\n",
    "Python has six standard Data Types:\n",
    "\n",
    "Numbers\n",
    "String\n",
    "List\n",
    "Tuple\n",
    "Set\n",
    "Dictionary\n"
   ]
  },
  {
   "cell_type": "code",
   "execution_count": null,
   "metadata": {},
   "outputs": [],
   "source": [
    "#Numbers\n",
    "In Numbers, there are mainly 3 types which include Integer, Float, and Complex.\n",
    "These 3 are defined as a class in python. In order to find to which class the variable \n",
    "belongs to you can use type () function."
   ]
  },
  {
   "cell_type": "code",
   "execution_count": 24,
   "metadata": {},
   "outputs": [
    {
     "name": "stdout",
     "output_type": "stream",
     "text": [
      "5 is of type <class 'int'>\n",
      "2.5 is of type <class 'float'>\n",
      "(6+2j) is a type <class 'complex'>\n"
     ]
    }
   ],
   "source": [
    "a = 5\n",
    "print(a, \"is of type\", type(a))\n",
    "\n",
    "b = 2.5\n",
    "print(b, \"is of type\", type(b))\n",
    "\n",
    "c = 6+2j\n",
    "print(c, \"is a type\", type(c))"
   ]
  },
  {
   "cell_type": "code",
   "execution_count": null,
   "metadata": {},
   "outputs": [],
   "source": [
    "#String\n",
    "A string is an ordered sequence of characters.\n",
    "We can use single quotes or double quotes to represent strings. Multi-line strings can be represented \n",
    "using triple quotes, '' or \"\".\n",
    "\n",
    "Strings are immutable which means once we declare a string we cannot update the already declared string.\n",
    "\n",
    "Ex:\n",
    "    \n",
    "Single = 'Welcome'\n",
    "or\n",
    "Multi = \"Welcome\"\n",
    "\n",
    "Multiline: ”Python is an interpreted high-level programming language for general-purpose programming. \n",
    "Created by Guido van Rossum and first released in 1991”\n",
    "or\n",
    "‘’’Python is an interpreted high-level programming language for general-purpose programming.\n",
    "Created by Guido van Rossum and first released in 1991.’’’\n",
    "We can perform several operations in strings like Concatenation, Repetition, and Slicing.\n",
    "\n",
    "Concatenation: It means the operation of joining two strings together."
   ]
  },
  {
   "cell_type": "code",
   "execution_count": 30,
   "metadata": {},
   "outputs": [
    {
     "name": "stdout",
     "output_type": "stream",
     "text": [
      "WelcomeTo Python\n"
     ]
    }
   ],
   "source": [
    "String1 = \"Welcome\"\n",
    "String2 =\"To Python\"\n",
    "print(String1+String2)"
   ]
  },
  {
   "cell_type": "code",
   "execution_count": null,
   "metadata": {},
   "outputs": [],
   "source": [
    "#Repetition:\n",
    "It means repeating a sequence of instructions a certain number of times."
   ]
  },
  {
   "cell_type": "code",
   "execution_count": 36,
   "metadata": {},
   "outputs": [
    {
     "name": "stdout",
     "output_type": "stream",
     "text": [
      "WelcomeWelcomeWelcomeWelcome\n"
     ]
    }
   ],
   "source": [
    "String1 = \"Welcome\"\n",
    "print(String1*4)"
   ]
  },
  {
   "cell_type": "code",
   "execution_count": null,
   "metadata": {},
   "outputs": [],
   "source": [
    "#Slicing: \n",
    "Slicing is a technique for extracting parts of a string.\n",
    "Note: In Python, index starts from 0."
   ]
  },
  {
   "cell_type": "code",
   "execution_count": 37,
   "metadata": {},
   "outputs": [
    {
     "name": "stdout",
     "output_type": "stream",
     "text": [
      "lco\n"
     ]
    }
   ],
   "source": [
    "print(String1[2:5])"
   ]
  },
  {
   "cell_type": "code",
   "execution_count": null,
   "metadata": {},
   "outputs": [],
   "source": [
    "Note: Python also supports negative index."
   ]
  },
  {
   "cell_type": "code",
   "execution_count": 38,
   "metadata": {},
   "outputs": [
    {
     "name": "stdout",
     "output_type": "stream",
     "text": [
      "ome\n"
     ]
    }
   ],
   "source": [
    "print(String1[-3:])"
   ]
  },
  {
   "cell_type": "code",
   "execution_count": null,
   "metadata": {},
   "outputs": [],
   "source": [
    "As Strings are immutable in Python, if we try to update the string, then it will generate an error.\n",
    "\n",
    "Example:\n",
    "String[1]= \"D\"\n",
    "#Output: TypeError: 'str' object does not support item assignment"
   ]
  },
  {
   "cell_type": "code",
   "execution_count": 40,
   "metadata": {},
   "outputs": [
    {
     "ename": "TypeError",
     "evalue": "'str' object does not support item assignment",
     "output_type": "error",
     "traceback": [
      "\u001b[0;31m---------------------------------------------------------------------------\u001b[0m",
      "\u001b[0;31mTypeError\u001b[0m                                 Traceback (most recent call last)",
      "\u001b[0;32m<ipython-input-40-a680276d94e1>\u001b[0m in \u001b[0;36m<module>\u001b[0;34m\u001b[0m\n\u001b[1;32m      1\u001b[0m \u001b[0mString1\u001b[0m \u001b[0;34m=\u001b[0m \u001b[0;34m\"Welcome\"\u001b[0m\u001b[0;34m\u001b[0m\u001b[0;34m\u001b[0m\u001b[0m\n\u001b[1;32m      2\u001b[0m \u001b[0mString2\u001b[0m \u001b[0;34m=\u001b[0m\u001b[0;34m\"To Python\"\u001b[0m\u001b[0;34m\u001b[0m\u001b[0;34m\u001b[0m\u001b[0m\n\u001b[0;32m----> 3\u001b[0;31m \u001b[0mString1\u001b[0m\u001b[0;34m[\u001b[0m\u001b[0;36m1\u001b[0m\u001b[0;34m]\u001b[0m\u001b[0;34m=\u001b[0m \u001b[0;34m\"D\"\u001b[0m\u001b[0;34m\u001b[0m\u001b[0;34m\u001b[0m\u001b[0m\n\u001b[0m",
      "\u001b[0;31mTypeError\u001b[0m: 'str' object does not support item assignment"
     ]
    }
   ],
   "source": [
    "String1 = \"Welcome\"\n",
    "String2 =\"To Python\"\n",
    "String1[1]= \"D\""
   ]
  },
  {
   "cell_type": "code",
   "execution_count": 41,
   "metadata": {},
   "outputs": [
    {
     "name": "stdout",
     "output_type": "stream",
     "text": [
      "7\n",
      "7.0\n",
      "7.0\n",
      "hello\n",
      "hello\n",
      "Don't worry about apostrophes\n",
      "3\n",
      "hello world\n",
      "3 4\n"
     ]
    },
    {
     "ename": "TypeError",
     "evalue": "unsupported operand type(s) for +: 'int' and 'str'",
     "output_type": "error",
     "traceback": [
      "\u001b[0;31m---------------------------------------------------------------------------\u001b[0m",
      "\u001b[0;31mTypeError\u001b[0m                                 Traceback (most recent call last)",
      "\u001b[0;32m<ipython-input-41-eb345c809bba>\u001b[0m in \u001b[0;36m<module>\u001b[0;34m\u001b[0m\n\u001b[1;32m     35\u001b[0m \u001b[0mhello\u001b[0m \u001b[0;34m=\u001b[0m \u001b[0;34m\"hello\"\u001b[0m\u001b[0;34m\u001b[0m\u001b[0;34m\u001b[0m\u001b[0m\n\u001b[1;32m     36\u001b[0m \u001b[0;34m\u001b[0m\u001b[0m\n\u001b[0;32m---> 37\u001b[0;31m \u001b[0mprint\u001b[0m\u001b[0;34m(\u001b[0m\u001b[0mone\u001b[0m \u001b[0;34m+\u001b[0m \u001b[0mtwo\u001b[0m \u001b[0;34m+\u001b[0m \u001b[0mhello\u001b[0m\u001b[0;34m)\u001b[0m\u001b[0;34m\u001b[0m\u001b[0;34m\u001b[0m\u001b[0m\n\u001b[0m",
      "\u001b[0;31mTypeError\u001b[0m: unsupported operand type(s) for +: 'int' and 'str'"
     ]
    }
   ],
   "source": [
    "## Examples\n",
    "\n",
    "myint = 7\n",
    "print(myint)\n",
    "\n",
    "myfloat = 7.0\n",
    "print(myfloat)\n",
    "myfloat = float(7)\n",
    "print(myfloat)\n",
    "\n",
    "mystring = 'hello'\n",
    "print(mystring)\n",
    "mystring = \"hello\"\n",
    "print(mystring)\n",
    "\n",
    "mystring = \"Don't worry about apostrophes\"\n",
    "print(mystring)\n",
    "\n",
    "one = 1\n",
    "two = 2\n",
    "three = one + two\n",
    "print(three)\n",
    "\n",
    "hello = \"hello\"\n",
    "world = \"world\"\n",
    "helloworld = hello + \" \" + world\n",
    "print(helloworld)\n",
    "\n",
    "a, b = 3, 4\n",
    "print(a,b)\n",
    "\n",
    "# This will not work!\n",
    "one = 1\n",
    "two = 2\n",
    "hello = \"hello\"\n",
    "\n",
    "print(one + two + hello)"
   ]
  },
  {
   "cell_type": "code",
   "execution_count": null,
   "metadata": {},
   "outputs": [],
   "source": [
    "#Exercise\n",
    "The target of this exercise is to create a string, an integer, and a floating point number. \n",
    "The string should be named mystring and should contain the word \"hello\". \n",
    "The floating point number should be named myfloat and should contain the number 10.0, \n",
    "and the integer should be named myint and should contain the number 20."
   ]
  },
  {
   "cell_type": "code",
   "execution_count": 44,
   "metadata": {
    "scrolled": true
   },
   "outputs": [
    {
     "name": "stdout",
     "output_type": "stream",
     "text": [
      "String: hello\n",
      "Float: 10.000000\n",
      "Integer: 20\n"
     ]
    }
   ],
   "source": [
    "# change this code\n",
    "mystring = hello\n",
    "myfloat = 10.0\n",
    "myint = 20\n",
    "\n",
    "# testing code\n",
    "if mystring == \"hello\":\n",
    "    print(\"String: %s\" % mystring)\n",
    "if isinstance(myfloat, float) and myfloat == 10.0:\n",
    "    print(\"Float: %f\" % myfloat)\n",
    "if isinstance(myint, int) and myint == 20:\n",
    "    print(\"Integer: %d\" % myint)"
   ]
  },
  {
   "cell_type": "code",
   "execution_count": null,
   "metadata": {},
   "outputs": [],
   "source": [
    "#List\n",
    "A list can contain a series of values.\n",
    "List variables are declared by using brackets [ ]. A list is mutable, which means we can modify the list."
   ]
  },
  {
   "cell_type": "code",
   "execution_count": 51,
   "metadata": {},
   "outputs": [
    {
     "name": "stdout",
     "output_type": "stream",
     "text": [
      "[2, 4, 5.5, 'Hi']\n",
      "List[2] =  5.5\n",
      "List[0:3] =  [2, 4, 5.5]\n",
      "[2, 4, 5.5, 'Hello']\n"
     ]
    }
   ],
   "source": [
    "List = [2,4,5.5,\"Hi\"]\n",
    "print(List)\n",
    "print(\"List[2] = \", List[2])\n",
    "print(\"List[0:3] = \", List[0:3])\n",
    "#Updating the list\n",
    "List[3] = \"Hello\"\n",
    "#If we print the whole list, we can see the updated list.\n",
    "print(List)"
   ]
  },
  {
   "cell_type": "code",
   "execution_count": 53,
   "metadata": {},
   "outputs": [
    {
     "name": "stdout",
     "output_type": "stream",
     "text": [
      "1\n",
      "2\n",
      "3\n",
      "1\n",
      "2\n",
      "3\n"
     ]
    }
   ],
   "source": [
    "# Lists are very similar to arrays. They can contain any type of variable, \n",
    "#and they can contain as many variables as you wish. \n",
    "# Lists can also be iterated over in a very simple manner. Here is an example of how to build a list.\n",
    "mylist = []\n",
    "mylist.append(1)\n",
    "mylist.append(2)\n",
    "mylist.append(3)\n",
    "print(mylist[0]) # prints 1\n",
    "print(mylist[1]) # prints 2\n",
    "print(mylist[2]) # prints 3\n",
    "\n",
    "# prints out 1,2,3\n",
    "for x in mylist:\n",
    "    print(x)"
   ]
  },
  {
   "cell_type": "code",
   "execution_count": 55,
   "metadata": {},
   "outputs": [
    {
     "name": "stdout",
     "output_type": "stream",
     "text": [
      "[1, 2, 3]\n",
      "['hello', 'world']\n",
      "The second name on the names list is ['Eric']\n"
     ]
    }
   ],
   "source": [
    "#In this exercise, you will need to add numbers and strings to the correct lists using the \"append\" list method. \n",
    "#You must add the numbers 1,2, and 3 to the \"numbers\" list, and the words 'hello' and 'world' to the strings variable.\n",
    "#You will also have to fill in the variable second_name with the second name in the names list, using the brackets operator [].\n",
    "#Note that the index is zero-based, so if you want to access the second item in the list, its index will be 1.\n",
    "numbers = [1,2,3]\n",
    "strings = [\"hello\",\"world\"]\n",
    "names = [\"John\", \"Eric\", \"Jessica\"]\n",
    "\n",
    "# write your code here\n",
    "second_name = [\"Eric\"]\n",
    "\n",
    "\n",
    "# this code should write out the filled arrays and the second name in the names list (Eric).\n",
    "print(numbers)\n",
    "print(strings)\n",
    "print(\"The second name on the names list is %s\" % second_name)"
   ]
  },
  {
   "cell_type": "code",
   "execution_count": null,
   "metadata": {},
   "outputs": [],
   "source": [
    "#Tuple\n",
    "A tuple is a sequence of Python objects separated by commas.\n",
    "Tuples are immutable, which means tuples once created cannot be modified. Tuples are defined using parentheses ()."
   ]
  },
  {
   "cell_type": "code",
   "execution_count": 58,
   "metadata": {},
   "outputs": [
    {
     "name": "stdout",
     "output_type": "stream",
     "text": [
      "Tuple[1] =  15\n",
      "Tuple[0:3] = (50, 15, 25.6)\n"
     ]
    },
    {
     "ename": "TypeError",
     "evalue": "'tuple' object does not support item assignment",
     "output_type": "error",
     "traceback": [
      "\u001b[0;31m---------------------------------------------------------------------------\u001b[0m",
      "\u001b[0;31mTypeError\u001b[0m                                 Traceback (most recent call last)",
      "\u001b[0;32m<ipython-input-58-e2123171ae90>\u001b[0m in \u001b[0;36m<module>\u001b[0;34m\u001b[0m\n\u001b[1;32m      3\u001b[0m \u001b[0mprint\u001b[0m\u001b[0;34m(\u001b[0m\u001b[0;34m\"Tuple[0:3] =\"\u001b[0m\u001b[0;34m,\u001b[0m \u001b[0mTuple\u001b[0m\u001b[0;34m[\u001b[0m\u001b[0;36m0\u001b[0m\u001b[0;34m:\u001b[0m\u001b[0;36m3\u001b[0m\u001b[0;34m]\u001b[0m\u001b[0;34m)\u001b[0m\u001b[0;34m\u001b[0m\u001b[0;34m\u001b[0m\u001b[0m\n\u001b[1;32m      4\u001b[0m \u001b[0;31m#As Tuples are immutable in Python, if we try to update the tuple, then it will generate an error.\u001b[0m\u001b[0;34m\u001b[0m\u001b[0;34m\u001b[0m\u001b[0;34m\u001b[0m\u001b[0m\n\u001b[0;32m----> 5\u001b[0;31m \u001b[0mTuple\u001b[0m\u001b[0;34m[\u001b[0m\u001b[0;36m2\u001b[0m\u001b[0;34m]\u001b[0m\u001b[0;34m=\u001b[0m \u001b[0;34m\"D\"\u001b[0m\u001b[0;34m\u001b[0m\u001b[0;34m\u001b[0m\u001b[0m\n\u001b[0m\u001b[1;32m      6\u001b[0m \u001b[0;31m#Output: TypeError: ‘tuple' object does not support item assignment\u001b[0m\u001b[0;34m\u001b[0m\u001b[0;34m\u001b[0m\u001b[0;34m\u001b[0m\u001b[0m\n",
      "\u001b[0;31mTypeError\u001b[0m: 'tuple' object does not support item assignment"
     ]
    }
   ],
   "source": [
    "Tuple = (50,15,25.6,\"Python\")\n",
    "print(\"Tuple[1] = \", Tuple[1])\n",
    "print(\"Tuple[0:3] =\", Tuple[0:3])\n",
    "#As Tuples are immutable in Python, if we try to update the tuple, then it will generate an error.\n",
    "Tuple[2]= \"D\"\n",
    "#Output: TypeError: ‘tuple' object does not support item assignment"
   ]
  },
  {
   "cell_type": "code",
   "execution_count": 62,
   "metadata": {},
   "outputs": [],
   "source": [
    "#Set\n",
    "A set is an unordered collection of items. Set is defined by values separated by a comma inside braces { }.\n",
    "In the set, we can perform operations like union and intersection on two sets.\n",
    "We can perform Union operation by Using | Operator.\n",
    "As the set is an unordered collection, indexing has no meaning. Hence the slicing operator [] does not work."
   ]
  },
  {
   "cell_type": "code",
   "execution_count": 75,
   "metadata": {},
   "outputs": [
    {
     "name": "stdout",
     "output_type": "stream",
     "text": [
      "{1, 2.6, 'python', 5}\n",
      "A U B = {2, 'a', 'd', 'c'}\n",
      "{'c', 'd'}\n"
     ]
    },
    {
     "ename": "TypeError",
     "evalue": "'set' object does not support indexing",
     "output_type": "error",
     "traceback": [
      "\u001b[0;31m---------------------------------------------------------------------------\u001b[0m",
      "\u001b[0;31mTypeError\u001b[0m                                 Traceback (most recent call last)",
      "\u001b[0;32m<ipython-input-75-24458173fe4a>\u001b[0m in \u001b[0;36m<module>\u001b[0;34m\u001b[0m\n\u001b[1;32m      5\u001b[0m \u001b[0mprint\u001b[0m\u001b[0;34m(\u001b[0m\u001b[0;34m'A U B ='\u001b[0m\u001b[0;34m,\u001b[0m \u001b[0mA\u001b[0m\u001b[0;34m|\u001b[0m \u001b[0mB\u001b[0m\u001b[0;34m)\u001b[0m\u001b[0;34m\u001b[0m\u001b[0;34m\u001b[0m\u001b[0m\n\u001b[1;32m      6\u001b[0m \u001b[0mprint\u001b[0m\u001b[0;34m(\u001b[0m\u001b[0mA\u001b[0m \u001b[0;34m&\u001b[0m \u001b[0mB\u001b[0m\u001b[0;34m)\u001b[0m\u001b[0;34m\u001b[0m\u001b[0;34m\u001b[0m\u001b[0m\n\u001b[0;32m----> 7\u001b[0;31m \u001b[0mSet\u001b[0m\u001b[0;34m[\u001b[0m\u001b[0;36m1\u001b[0m\u001b[0;34m]\u001b[0m\u001b[0;34m\u001b[0m\u001b[0;34m\u001b[0m\u001b[0m\n\u001b[0m",
      "\u001b[0;31mTypeError\u001b[0m: 'set' object does not support indexing"
     ]
    }
   ],
   "source": [
    "Set = {5,1,2.6,\"python\"}\n",
    "print(Set)\n",
    "A = {'a', 'c', 'd'}\n",
    "B = {'c', 'd', 2 }\n",
    "print('A U B =', A| B)\n",
    "print(A & B)\n",
    "Set[1]"
   ]
  },
  {
   "cell_type": "code",
   "execution_count": 79,
   "metadata": {},
   "outputs": [],
   "source": [
    "#Dictionary\n",
    "Dictionaries are the most flexible built-in data type in python.\n",
    "Dictionaries items are stored and fetched by using the key. \n",
    "Dictionaries are used to store a huge amount of data. To retrieve the value we must know the key.\n",
    "In Python, dictionaries are defined within braces {}.\n",
    "We use the key to retrieve the respective value. But not the other way around.\n",
    "\n",
    "Syntax:\n",
    "Key:value"
   ]
  },
  {
   "cell_type": "code",
   "execution_count": 87,
   "metadata": {},
   "outputs": [
    {
     "name": "stdout",
     "output_type": "stream",
     "text": [
      "{1: 'Hi', 2: 7.5, 3: 'Class'}\n",
      "7.5\n",
      "Class\n",
      "{1: 'Hi', 2: 7.5, 3: 'python'}\n",
      "python\n"
     ]
    }
   ],
   "source": [
    "Dict = {1:'Hi',2:7.5, 3:'Class'}\n",
    "print(Dict)\n",
    "#We can retrieve the value by using the following method:\n",
    "print(Dict[2])\n",
    "print(Dict[3])\n",
    "\n",
    "#If we try to retrieve the value by using the value instead of the key, then it will generate an error.\n",
    "#print(\"Dict[7.5] = \", Dict[7.5])\n",
    "#We can update the dictionary by using the following methods as well:\n",
    "Dict[3] = 'python'\n",
    "print(Dict)\n",
    "print(Dict[3])\n"
   ]
  },
  {
   "cell_type": "code",
   "execution_count": 92,
   "metadata": {},
   "outputs": [],
   "source": [
    "#Python Operators\n",
    "Operators are used for carrying out operations on values and variables.\n",
    "Python has 7 types of Operators as stated below:\n",
    "\n",
    "Arithmetic Operator\n",
    "Comparison operators\n",
    "Logical operators\n",
    "Bitwise operators\n",
    "Assignment Operator\n",
    "Identity operators\n",
    "Membership operators"
   ]
  },
  {
   "cell_type": "code",
   "execution_count": 96,
   "metadata": {},
   "outputs": [],
   "source": [
    "#Arithmetic Operators\n",
    "Python programming language supports different kinds of arithmetic operators for both integer and floating point like \n",
    "addition, subtraction, multiplication, division and so on.\n",
    "\n",
    "# Operator Type       Definition\n",
    "Addition (+)        Addition operator\n",
    "Subtraction (-)     Subtraction operator\n",
    "Multiplication (*)  Multiplication operator\n",
    "Division (/)        Division operator\n",
    "Modulus (%)         Reminder operator\n",
    "Floor division (//) Divides and returns the value of the remainder.\n",
    "Exponentiation (**) Raises the left operand to the power of right.\n"
   ]
  },
  {
   "cell_type": "code",
   "execution_count": 95,
   "metadata": {},
   "outputs": [
    {
     "name": "stdout",
     "output_type": "stream",
     "text": [
      "x + y = 25\n",
      "x - y = 5\n",
      "x * y = 150\n",
      "x / y = 1.5\n",
      "x % y = 5\n",
      "x // y = 1\n",
      "x ** y = 576650390625\n"
     ]
    }
   ],
   "source": [
    "x = 15\n",
    "y = 10\n",
    "print('x + y =', x+y)\n",
    "#Output: x + y = 25\n",
    "print('x - y =', x-y)\n",
    "#Output: x – y = 5\n",
    "print('x * y =', x*y)\n",
    "#Output: x * y = 150\n",
    "print('x / y =', x/y)\n",
    "#Output: x / y = 1.5\n",
    "print('x % y =', x%y)\n",
    "#Output: x % y = 5\n",
    "print('x // y =', x//y)\n",
    "#Output: x // y = 1\n",
    "print('x ** y =', x**y)\n",
    "#Output: x ** y = 576650390625"
   ]
  },
  {
   "cell_type": "code",
   "execution_count": null,
   "metadata": {},
   "outputs": [],
   "source": [
    "#Comparison Operators\n",
    "Comparison operators are used for comparing values. It either returns True or False according to the condition.\n",
    "\n",
    "#Operators                     Definition\n",
    "Greater than (>)               True if left operand is greater than the right\n",
    "Less than (<)                  True if left operand is less than the right\n",
    "Equal to (==)                  True if both operands are equal\n",
    "Not equal to (!=)              True if operands are not equal\n",
    "Greater than or equal to (>=)  True if left operand is greater than or equal to the right\n",
    "Less than or equal to (<=)     True if left operand is less than or equal to the right\n"
   ]
  },
  {
   "cell_type": "code",
   "execution_count": 97,
   "metadata": {},
   "outputs": [
    {
     "name": "stdout",
     "output_type": "stream",
     "text": [
      "x>y is False\n",
      "x< y is True\n",
      "x == y is False\n",
      "x != y is True\n",
      "x >= y is False\n",
      "x<= y is True\n"
     ]
    }
   ],
   "source": [
    "x = 8\n",
    "y = 15\n",
    "print('x>y is',x>y)\n",
    "#Output: x > y is False\n",
    "print('x< y is',  x<y)\n",
    "#Output: x < y is True\n",
    "print('x == y is', x==y)\n",
    "#Output: x == y is False\n",
    "print('x != y is', x!=y)\n",
    "#Output: x != y is True\n",
    "print('x >= y is', x>=y)\n",
    "#Output: x >= y is False\n",
    "print('x<= y is', x<=y)\n",
    "#Output: x <= y is True"
   ]
  },
  {
   "cell_type": "code",
   "execution_count": null,
   "metadata": {},
   "outputs": [],
   "source": [
    "#Logical Operators\n",
    "Logical operators are used for performing AND, OR and NOT operations. It either returns True or False \n",
    "according to the condition.\n",
    "\n",
    "#Operators  Definitions\n",
    "    and --> True if both the operands are true\n",
    "    or  --> True if either of the operands is true\n",
    "    not --> True if operand is false"
   ]
  },
  {
   "cell_type": "code",
   "execution_count": 8,
   "metadata": {},
   "outputs": [
    {
     "name": "stdout",
     "output_type": "stream",
     "text": [
      "a and b is False\n",
      "a or b is True\n",
      "not a is False\n"
     ]
    }
   ],
   "source": [
    "a=True\n",
    "b=False\n",
    "print('a and b is', a and b)\n",
    "#Output: a and b is False\n",
    "print('a or b is', a or b)\n",
    "#Output: a or b is True\n",
    "print('not a is', not a)\n",
    "#Output: not a is False"
   ]
  },
  {
   "cell_type": "code",
   "execution_count": null,
   "metadata": {},
   "outputs": [],
   "source": [
    "#Bitwise Operators\n",
    "Bitwise operators operate on bits and perform bit by bit operation.\n",
    "#Operators Definitions\n",
    "&         Bitwise AND\n",
    "|         Bitwise OR\n",
    "~         Bitwise NOT\n",
    "^         Bitwise XOR\n",
    ">>        Bitwise right shift\n",
    "<<        Bitwise left shift\n",
    "\n",
    "# Assignment Operator\n",
    "An assignment operator is used to assign a value to a variable."
   ]
  },
  {
   "cell_type": "code",
   "execution_count": null,
   "metadata": {},
   "outputs": [],
   "source": [
    "#Operators\tDefinitions\t\tOutput\n",
    "=\t\tx = 15\t\t\tx = 15\n",
    "+=\t\tx += 15\t\t\tx = x + 15\n",
    "-=\t\tx -= 15\t\t\tx = x - 15\n",
    "*=\t\tx *= 15\t\t\tx = x * 15\n",
    "/=\t\tx /= 15\t\t\tx = x / 15\n",
    "%=\t\tx %= 15\t\t\tx = x % 15\n",
    "//=\t\tx //= 15\t\tx = x // 15\n",
    "**=\t\tx **= 15\t\tx = x ** 15\n",
    "&=\t\tx &= 15\t\t\tx = x & 15\n",
    "|=\t\tx |= 15\t\t\tx = x | 15\n",
    "^=\t\tx ^= 15\t\t\tx = x ^ 15\n",
    ">>=\t\tx >>= 15\t\tx = x >> 15\n",
    "<<=\t\tx <<= 15\t\tx = x << 15"
   ]
  },
  {
   "cell_type": "code",
   "execution_count": null,
   "metadata": {},
   "outputs": [],
   "source": [
    "#Identity Operators\n",
    "Python offers 2 types of identity operators i.e is and is not.\n",
    "Both are used to compare if two values are located on the same part of the memory.\n",
    "Two variables that are equal does not imply that they are identical.\n",
    "\n",
    "#Operators\tDefinitions\n",
    "is       True if the operands are identical\n",
    "is not   True if the operands are not identical"
   ]
  },
  {
   "cell_type": "code",
   "execution_count": 13,
   "metadata": {},
   "outputs": [
    {
     "name": "stdout",
     "output_type": "stream",
     "text": [
      "False\n",
      "True\n",
      "False\n"
     ]
    }
   ],
   "source": [
    "a1 = 3\n",
    "b1 = 3\n",
    "a2 = \"Python\"\n",
    "b2 = \"Python\"\n",
    "a3 = [4,5,6]\n",
    "b3 = [4,5,6]\n",
    "print(a1 is not b1)\n",
    "print(a2 is b2)\n",
    "print(a3 is b3) \n",
    "#Here a3 and b3 are listed, interpreter allocates memory separately and even though they are equal, it returns False."
   ]
  },
  {
   "cell_type": "code",
   "execution_count": null,
   "metadata": {},
   "outputs": [],
   "source": [
    "#Membership Operators\n",
    "Python offers 2 types of membership operators i.e in and not in.\n",
    "Both are used to test whether a value or variable is in a sequence.\n",
    "\n",
    "#Operators   Definitions\n",
    "in           True if value is found in the sequence\n",
    "not in       True if value is not found in the sequence"
   ]
  },
  {
   "cell_type": "code",
   "execution_count": 16,
   "metadata": {},
   "outputs": [
    {
     "name": "stdout",
     "output_type": "stream",
     "text": [
      "True\n",
      "True\n",
      "True\n",
      "False\n"
     ]
    }
   ],
   "source": [
    "a = \"Python operators\"\n",
    "b = {1:'x',2:'y'}\n",
    "print(\"P\" in a)\n",
    "#Output: True\n",
    "print(\"python\" not in a)\n",
    "#Output: False\n",
    "print(1 in b)\n",
    "#Output: True\n",
    "print('y' in b)\n",
    "#1 is key and ‘x' is the value in dictionary b. Hence, ‘y' in b returns False."
   ]
  },
  {
   "cell_type": "code",
   "execution_count": null,
   "metadata": {},
   "outputs": [],
   "source": [
    "#Conditional Statements in Python\n",
    "In programming languages, most of the time we have to control the flow of execution of your program, you want to execute\n",
    "some set of statements only if the given condition is satisfied, and a different set of statements when it’s not satisfied. \n",
    "Which we also call it as control statements or decision making statements.\n",
    "\n",
    "Conditional statements are also known as decision-making statements. We use these statements when we want to execute \n",
    "a block of code when the given condition is true or false.\n",
    "\n",
    "In Python we can achieve decision making by using the below statements:\n",
    "\n",
    "1. If statements\n",
    "2. If-else statements\n",
    "3. Elif statements\n",
    "4. Nested if and if-else statements\n",
    "5. Elif ladder"
   ]
  },
  {
   "cell_type": "code",
   "execution_count": null,
   "metadata": {},
   "outputs": [],
   "source": [
    "#If statements\n",
    "If statement is one of the most commonly used conditional statement in most of the programming languages.\n",
    "It decides whether certain statements need to be executed or not. If statement checks for a given condition, \n",
    "if the condition is true, then the set of code present inside the if block will be executed.\n",
    "\n",
    "The If condition evaluates a Boolean expression and executes the block of code only when \n",
    "the Boolean expression becomes TRUE.\n",
    "\n",
    "Syntax:\n",
    "If (Boolean expression): Block of code  #Set of statements to execute if the condition is true\n",
    "\n",
    "Here, the condition will be evaluated to a Boolean expression (true or false). If the condition is true, \n",
    "then the statement or program present inside the if block will be executed and if the condition is false, \n",
    "then the statements or program present inside the if block will not be executed."
   ]
  },
  {
   "cell_type": "code",
   "execution_count": 54,
   "metadata": {},
   "outputs": [
    {
     "name": "stdout",
     "output_type": "stream",
     "text": [
      "Num is smaller than 10\n",
      "This statements will always be executed\n",
      "a is greater than b\n",
      "b is greater than a\n",
      "true\n",
      "true\n",
      "You are passed in the exam\n",
      "Congratulations!!!\n"
     ]
    }
   ],
   "source": [
    "Num = 5\n",
    "if (Num < 10):\n",
    "             print(\"Num is smaller than 10\")\n",
    "    \n",
    "print(\"This statements will always be executed\")\n",
    "#Output: Num is smaller than 10.\n",
    "\n",
    "a = 7\n",
    "b = 2\n",
    "if (a > b):\n",
    "           print(\"a is greater than b\")\n",
    "        \n",
    "if (b < a):\n",
    "           print(\"b is greater than a\")\n",
    "\n",
    "if (a):\n",
    "    print(\"true\")\n",
    "\n",
    "if ('python' in ['Java', 'python', 'C#']):\n",
    "            print(\"true\")\n",
    "\n",
    "passing_Score = 60\n",
    "my_Score = 67\n",
    "if(my_Score >= passing_Score):\n",
    "               print(\"You are passed in the exam\")\n",
    "print(\"Congratulations!!!\")"
   ]
  },
  {
   "cell_type": "code",
   "execution_count": null,
   "metadata": {},
   "outputs": [],
   "source": [
    "#If-else statements\n",
    "The statement itself tells that if a given condition is true then execute the statements present \n",
    "inside if block and if the condition is false then execute the else block.\n",
    "\n",
    "Else block will execute only when the condition becomes false, this is the block where you will perform some\n",
    "actions when the condition is not true.\n",
    "\n",
    "If-else statement evaluates the Boolean expression and executes the block of code present inside the if block if the\n",
    "condition becomes TRUE and executes a block of code present in the else block if the condition becomes FALSE.\n",
    "Syntax:\n",
    "\n",
    "if(Boolean expression): \n",
    "Block of code #Set of statements to execute if condition is true\n",
    "else: \n",
    "Block of code #Set of statements to execute if condition is false\n",
    "\n",
    "Here, the condition will be evaluated to a Boolean expression (true or false). If the condition is true then\n",
    "the statements or program present inside the if block will be executed and if the condition is false then\n",
    "the statements or program present inside else block will be executed."
   ]
  },
  {
   "cell_type": "code",
   "execution_count": 61,
   "metadata": {},
   "outputs": [
    {
     "name": "stdout",
     "output_type": "stream",
     "text": [
      "number is less than 10\n",
      "This statement will always be executed\n",
      "a is greater than b\n",
      "Sorry!!!\n",
      "You are failed in the exam, better luck next time.\n"
     ]
    }
   ],
   "source": [
    "num = 5\n",
    "if(num > 10):\n",
    "     print(\"number is greater than 10\")\n",
    "else:\n",
    "     print(\"number is less than 10\")\n",
    "print(\"This statement will always be executed\")\n",
    "\n",
    "a = 7\n",
    "b = 0\n",
    "if(a > b):\n",
    "           print(\"a is greater than b\")\n",
    "else:\n",
    "           print(\"b is greater than a\")\n",
    "\n",
    "        \n",
    "passing_Score = 60\n",
    "my_Score = 59\n",
    "if(my_Score >= passing_Score):\n",
    "             print(\"Congratulations!!!\")\n",
    "             print(\"You are passed in the exam\")\n",
    "else:\n",
    "             print(\"Sorry!!!\")\n",
    "             print(\"You are failed in the exam, better luck next time.\")"
   ]
  },
  {
   "cell_type": "code",
   "execution_count": null,
   "metadata": {},
   "outputs": [],
   "source": [
    "#elif statements\n",
    "In python, we have one more conditional statement called elif statements. \n",
    "Elif statement is used to check multiple conditions only if the given if condition false.\n",
    "Its similar to an if-else statement and the only difference is that in else we will not \n",
    "check the condition but in elif we will do check the condition.\n",
    "\n",
    "Elif statements are similar to if-else statements but elif statements evaluate multiple conditions.\n",
    "Syntax:\n",
    "\n",
    "if (condition):\n",
    "            #Set of statement to execute if condition is true\n",
    "elif (condition):\n",
    "            #Set of statements to be executed when if condition is false and elif condition is true\n",
    "else:\n",
    "       #Set of statement to be executed when both if and elif conditions are false"
   ]
  },
  {
   "cell_type": "code",
   "execution_count": 89,
   "metadata": {},
   "outputs": [
    {
     "name": "stdout",
     "output_type": "stream",
     "text": [
      "Number is greater than 5\n",
      "Number is negative\n"
     ]
    }
   ],
   "source": [
    "num = 10\n",
    "if (num == 0):\n",
    "     print(\"Number is Zero\")\n",
    "elif (num > 5):\n",
    "     print(\"Number is greater than 5\")\n",
    "else:\n",
    "     print(\"Number is smaller than 5\")\n",
    "\n",
    "num = -7\n",
    "if (num >= 0):\n",
    "              print(\"Number is positive\")\n",
    "elif (num <= 0):\n",
    "              print(\"Number is negative\")\n",
    "else:\n",
    "              print(\"Number is Zero\")\n"
   ]
  },
  {
   "cell_type": "code",
   "execution_count": null,
   "metadata": {},
   "outputs": [],
   "source": [
    "#Nested if-else statements\n",
    "Nested if-else statements mean that an if statement or if-else statement is present inside another if or if-else block.\n",
    "Python provides this feature as well, this in turn will help us to check multiple conditions in a given program.\n",
    "\n",
    "An if statement present inside another if statement which is present inside another if statements and so on.\n",
    "Nested if Syntax:\n",
    "if(condition):\n",
    "           #Statements to execute if condition is true\n",
    "           if(condition):\n",
    "                    #Statements to execute if condition is true\n",
    "           #end of nested if\n",
    "#end of if\n",
    "The above syntax clearly says that the if block will contain another if block in it and so on.\n",
    "If block can contain 'n' number of if block inside it.\n",
    "\n",
    "Nested if-else Syntax:\n",
    "\n",
    "if(condition):\n",
    "           #Statements to execute if condition is true\n",
    "           if(condition):\n",
    "                     #Statements to execute if condition is true\n",
    "           else:\n",
    "                    #Statements to execute if condition is false\n",
    "else:\n",
    "            #Statements to execute if condition is false"
   ]
  },
  {
   "cell_type": "code",
   "execution_count": 75,
   "metadata": {},
   "outputs": [
    {
     "name": "stdout",
     "output_type": "stream",
     "text": [
      "number is positive\n",
      "number is less than 10\n",
      "Number is greater than Zero\n",
      "Python is present in the list\n",
      "Java is present in the list\n",
      "C# is present in the list\n"
     ]
    }
   ],
   "source": [
    "num = 5\n",
    "if(num >0):\n",
    "      print(\"number is positive\")\n",
    "if(num<10):\n",
    "      print(\"number is less than 10\")\n",
    "        \n",
    "        \n",
    "num = 7\n",
    "if (num != 0):\n",
    "             if (num > 0):\n",
    "                          print(\"Number is greater than Zero\")\n",
    "                \n",
    "                \n",
    "if ('python' in ['Java', 'python', 'C#']):\n",
    "                         print(\"Python is present in the list\")\n",
    "                         if ('C#' in['Java', 'python', 'C#']):\n",
    "                                  print(\"Java is present in the list\")\n",
    "                                  if ('C#' in ['Java', 'python', 'C#']):\n",
    "                                           print(\"C# is present in the list\")"
   ]
  },
  {
   "cell_type": "code",
   "execution_count": 78,
   "metadata": {},
   "outputs": [
    {
     "name": "stdout",
     "output_type": "stream",
     "text": [
      "Number is negative\n"
     ]
    }
   ],
   "source": [
    "num = -7\n",
    "if (num != 0):\n",
    "          if (num > 0):\n",
    "                     print(\"Number is positive\")\n",
    "          else:\n",
    "                     print(\"Number is negative\")\n",
    "else:\n",
    "           print(\"Number is Zero\")"
   ]
  },
  {
   "cell_type": "code",
   "execution_count": null,
   "metadata": {},
   "outputs": [],
   "source": [
    "#elif Ladder\n",
    "We have seen about the elif statements but what is this elif ladder. As the name itself suggests a program which\n",
    "contains ladder of elif statements or elif statements which are structured in the form of a ladder.\n",
    "\n",
    "This statement is used to test multiple expressions.\n",
    "Syntax:\n",
    "\n",
    "if (condition):\n",
    "      #Set of statement to execute if condition is true\n",
    "elif (condition):\n",
    "      #Set of statements to be executed when if condition is false and elif condition is true\n",
    "elif (condition):\n",
    "   #Set of statements to be executed when both if and first elif condition is false and second elif condition is true\n",
    "elif (condition):\n",
    "#Set of statements to be executed when if, first elif and second elif conditions are false and third elif statement is true\n",
    "else:\n",
    "       #Set of statement to be executed when all if and elif conditions are false"
   ]
  },
  {
   "cell_type": "code",
   "execution_count": 88,
   "metadata": {},
   "outputs": [
    {
     "name": "stdout",
     "output_type": "stream",
     "text": [
      "Passed in First class with distinction\n"
     ]
    }
   ],
   "source": [
    "my_marks = 89\n",
    "if (my_marks <= 35): print(\"Sorry!!!, You are failed in the exam\")\n",
    "elif(my_marks <= 60): print(\"Passed in Second class\") \n",
    "elif(my_marks >= 60 and my_marks <= 85): print(\"Passed in First class\")\n",
    "else: print(\"Passed in First class with distinction\")"
   ]
  },
  {
   "cell_type": "code",
   "execution_count": null,
   "metadata": {},
   "outputs": [],
   "source": [
    "#If-else in One line\n",
    "In python, we can write if statements, if-else statements and elif statements in one line without \n",
    "worrying about the indentation.\n",
    "\n",
    "#If statement in one line\n",
    "\n",
    "We know we can write if statements as shown below\n",
    "\n",
    "Syntax:\n",
    "\n",
    "if (condition):\n",
    "       #Set of statements to execute if condition is true\n",
    "In python, it is permissible to write the above block in one line, which is similar to the above block.\n",
    "\n",
    "Syntax:\n",
    "\n",
    "if (condition): #set of statements to execute if condition in true\n",
    "There can be multiple statements as well, you just need to separate it by a semicolon (;)\n",
    "\n",
    "Syntax:\n",
    "\n",
    "if (condition): statement 1; statement 2; statement 3;…;statement n\n",
    "If the condition is true, then execute statement 1, statement 2 and so on up to statement n.\n",
    "\n",
    "In case if the condition is false then none of the statements will be executed.\n",
    "\n",
    "#If-else statements in One line\n",
    "Syntax:\n",
    "\n",
    "if (condition):\n",
    "           #Set of statement to execute if condition is true\n",
    "else:\n",
    "            #Set of statement to execute if condition is false\n",
    "The above if-else block can also be written as shown below.\n",
    "\n",
    "Syntax:\n",
    "\n",
    "if (condition): #Set of statement to execute if condition is true\n",
    "else: #Set of statement to execute if condition is false\n",
    "There can be multiple statements as well, you just need to separate it by a semicolon (;)\n",
    "\n",
    "Syntax:\n",
    "\n",
    "if (condition): statement 1; statement 2; statement 3;…;statement n\n",
    "else: statement 1; statement 2; statement 3;…;statement n\n",
    "    \n",
    "#elif Statements in One Line\n",
    "Syntax:\n",
    "\n",
    "if (condition):\n",
    "           #Set of statement to execute if condition is true\n",
    "elif (condition1):\n",
    "             #Set of statement to execute if condition1 is true\n",
    "else:\n",
    "             #Set of statement to execute if condition and condition1 is false\n",
    "The above elif block can also be written as below.\n",
    "\n",
    "Syntax:\n",
    "\n",
    "if (condition): #Set of statement to execute if condition is true\n",
    "elif (condition1): #Set of statement to execute if condition1 is true\n",
    "else: #Set of statement to execute if condition and condition1 is false\n",
    "There can be multiple statements as well, you just need to separate it by a semicolon (;)\n",
    "\n",
    "Syntax:\n",
    "\n",
    "if (condition): statement 1; statement 2; statement 3;…;statement n\n",
    "elif (condition): statement 1; statement 2; statement 3;…;statement n\n",
    "else: statement 1; statement 2; statement 3;…;statement n\n",
    "    \n",
    "    "
   ]
  },
  {
   "cell_type": "code",
   "execution_count": 4,
   "metadata": {},
   "outputs": [
    {
     "name": "stdout",
     "output_type": "stream",
     "text": [
      "Number is greater than Zero\n",
      "1\n",
      "2\n",
      "3\n"
     ]
    }
   ],
   "source": [
    "num = 7\n",
    "if (num > 0): print(\"Number is greater than Zero\")\n",
    "\n",
    "if ('y' in 'Python'): print('1'); print('2'); print('3')"
   ]
  },
  {
   "cell_type": "code",
   "execution_count": 5,
   "metadata": {},
   "outputs": [
    {
     "name": "stdout",
     "output_type": "stream",
     "text": [
      "Number is greater than Zero\n",
      "Mango\n",
      "Grapes\n"
     ]
    }
   ],
   "source": [
    "num = 7\n",
    "if (num > 0): print(\"Number is greater than Zero\")\n",
    "else: print(\"Number is smaller than Zero\")\n",
    "\n",
    "if ('a' in 'fruits'): print(\"Apple\"); print(\"Orange\")\n",
    "else: print(\"Mango\"); print(\"Grapes\")"
   ]
  },
  {
   "cell_type": "code",
   "execution_count": 12,
   "metadata": {},
   "outputs": [
    {
     "name": "stdout",
     "output_type": "stream",
     "text": [
      "Number is greater than Zero\n",
      "Mango\n",
      "Grapes\n"
     ]
    }
   ],
   "source": [
    "num = 7\n",
    "if (num < 0): print(\"Number is smaller than Zero\") \n",
    "elif (num > 0): print(\"Number is greater than Zero\")\n",
    "else: print(\"Number is Zero\")\n",
    "\n",
    "if ('a' in 'fruits'): print(\"Apple\"); print(\"Orange\")\n",
    "elif('u' in 'fruits'): print(\"Mango\"); print(\"Grapes\")\n",
    "else: print(\"No fruits available\")"
   ]
  },
  {
   "cell_type": "code",
   "execution_count": null,
   "metadata": {},
   "outputs": [],
   "source": [
    "#Multiple Conditions in if Statements\n",
    "It’s not that you can only write one condition inside an if statement, we can also evaluate multiple \n",
    "conditions in if statement like below.\n",
    "Example: 1\n",
    "num1 = 10\n",
    "num2 = 20\n",
    "num3 = 30\n",
    "if (num1 == 10 and num2 == 20 and num3 == 30):\n",
    "             print(“All the conditions are true”)\n",
    "Output:\n",
    "All the conditions are true\n",
    "\n",
    "Here, in if statement we are checking multiple conditions using AND operator, \n",
    "which means if all the conditions are true only when the statements inside an if block will be executed.\n",
    "\n",
    "We can also specify the OR operators as well.\n",
    "\n",
    "Example: 2\n",
    "fruitName = “Apple”\n",
    "if (fruitName == “Mango” or fruitName == “Apple” or fruitName == “Grapes”):\n",
    "              print(“It’s a fruit”)\n",
    "Output:\n",
    "It’s a fruit\n",
    "\n",
    "Here, in an, if statement out of three conditions, only one condition is true as thats the rule of OR operator. \n",
    "If any one condition is true then the condition will become true and the statement present inside the if block\n",
    "will be executed."
   ]
  },
  {
   "cell_type": "code",
   "execution_count": 14,
   "metadata": {},
   "outputs": [
    {
     "name": "stdout",
     "output_type": "stream",
     "text": [
      "All the conditions are true\n",
      "It's a fruit\n"
     ]
    }
   ],
   "source": [
    "num1 = 10\n",
    "num2 = 20\n",
    "num3 = 30\n",
    "if (num1 == 10 and num2 == 20 and num3 == 30):\n",
    "             print(\"All the conditions are true\")\n",
    "\n",
    "fruitName = \"Apple\"\n",
    "if (fruitName == \"Mango\" or fruitName == \"Apple\" or fruitName == \"Grapes\"):\n",
    "              print(\"It's a fruit\")\n"
   ]
  },
  {
   "cell_type": "code",
   "execution_count": 30,
   "metadata": {},
   "outputs": [
    {
     "name": "stdout",
     "output_type": "stream",
     "text": [
      "Enter the year: 2020\n",
      "Enter the month: 2\n",
      "Leap Year\n",
      "There are 29 days in this month\n"
     ]
    }
   ],
   "source": [
    "#Let’s consider a real-time scenario to find the number of days present in a month and \n",
    "#we know that during a leap year the number of days will change. \n",
    "#We will see this in a programmatic way using if, elif and else statements.\n",
    "\n",
    "currentYear = int(input(\"Enter the year: \"))\n",
    "month = int(input(\"Enter the month: \"))\n",
    "if ((currentYear % 4) == 0 and (currentYear % 100) != 0 or (currentYear % 400) == 0):\n",
    "            print (\"Leap Year\")\n",
    "            if (month == 1 or month == 3 or month == 5 or month == 7 or month == 8 or month == 10 or month == 12):\n",
    "                       print (\"There are 31 days in this month\")\n",
    "            elif (month == 4 or month == 6 or month == 9 or month == 11):\n",
    "                       print(\"There are 30 days in this month\")\n",
    "            elif (month == 2):\n",
    "\n",
    "                       print(\"There are 29 days in this month\")\n",
    "            else:\n",
    "                       print(\"Invalid month\")\n",
    "elif ((currentYear % 4) != 0 or (currentYear % 100) != 0 or (currentYear % 400) != 0):\n",
    "            print (\"Non Leap Year\")\n",
    "            if (month == 1 or month == 3 or month == 5 or month == 7 or month == 8 or month == 10 or month == 12):\n",
    "                       print (\"There are 31 days in this month\")\n",
    "            elif (month == 4 or month == 6 or month == 9 or month == 11):\n",
    "                       print(\"There are 30 days in this month\")\n",
    "            elif (month == 2):\n",
    "                       print(\"There are 28 days in this month\")\n",
    "            else:\n",
    "                       print(\"Invalid month\")\n",
    "else:\n",
    "              print(\"Invalid Year\")\n"
   ]
  },
  {
   "cell_type": "code",
   "execution_count": null,
   "metadata": {},
   "outputs": [],
   "source": [
    "Python provides us with 2 types of loops as stated below:\n",
    "While loop\n",
    "For loop\n",
    "\n",
    "#1) While loop:\n",
    "While loop in python is used to execute multiple statement or codes repeatedly until the given condition is true.\n",
    "We use while loop when we don’t know the number of times to iterate.\n",
    "Syntax:\n",
    "while (expression): block of statements Increment or decrement operator\n",
    "\n",
    "In while loop, we check the expression, if the expression becomes true, only then the block of statements\n",
    "present inside the while loop will be executed. For every iteration, it will check the condition and execute\n",
    "the block of statements until the condition becomes false."
   ]
  },
  {
   "cell_type": "code",
   "execution_count": 2,
   "metadata": {},
   "outputs": [
    {
     "name": "stdout",
     "output_type": "stream",
     "text": [
      "0\n",
      "1\n",
      "2\n",
      "3\n",
      "4\n"
     ]
    }
   ],
   "source": [
    "count = 0\n",
    "while count < 5:\n",
    "    print(count)\n",
    "    count += 1  # This is the same as count = count + 1"
   ]
  },
  {
   "cell_type": "code",
   "execution_count": null,
   "metadata": {},
   "outputs": [],
   "source": [
    "#For loop:\n",
    "For loop in python is used to execute a block of statements or code several times until the given condition becomes false.\n",
    "We use for loop when we know the number of times to iterate.\n",
    "\n",
    "Syntax:\n",
    "for var in sequence: Block of code\n",
    "\n",
    "Here var will take the value from the sequence and execute it until all the values in the sequence are done.\n",
    "\n",
    "#For loop using range () function:\n",
    "Range () function is used to generate a sequence of numbers.\n",
    "For Example, range (5) will generate numbers from 0 to 4 (5 numbers)."
   ]
  },
  {
   "cell_type": "code",
   "execution_count": 1,
   "metadata": {},
   "outputs": [
    {
     "name": "stdout",
     "output_type": "stream",
     "text": [
      "Current language is:  Python\n",
      "Current language is:  Java\n",
      "Current language is:  Ruby\n"
     ]
    }
   ],
   "source": [
    "language = ['Python', 'Java', 'Ruby']\n",
    "for lang in language:\n",
    "      print(\"Current language is: \", lang)\n"
   ]
  },
  {
   "cell_type": "code",
   "execution_count": 3,
   "metadata": {},
   "outputs": [
    {
     "name": "stdout",
     "output_type": "stream",
     "text": [
      "Current language is:  0\n",
      "Current language is:  1\n",
      "Current language is:  2\n"
     ]
    }
   ],
   "source": [
    "language = ['Python', 'Java', 'Ruby']\n",
    "for lang in range(len(language)):\n",
    "      print(\"Current language is: \", lang)\n"
   ]
  },
  {
   "cell_type": "code",
   "execution_count": null,
   "metadata": {},
   "outputs": [],
   "source": [
    "#Control Statements in Python\n",
    "Control statements in python are used to control the order of execution of the program based on the values and logic.\n",
    "\n",
    "Python provides us with 3 types of Control Statements:\n",
    "\n",
    "Continue\n",
    "Break\n",
    "Pass\n",
    "\n",
    "#1) Continue Statement:\n",
    "When the program encounters continue statement, it will skip the statements which are present\n",
    "after the continue statement inside the loop and proceed with the next iterations.\n",
    "\n",
    "Syntax:\n",
    "\n",
    "continue"
   ]
  },
  {
   "cell_type": "code",
   "execution_count": 24,
   "metadata": {},
   "outputs": [
    {
     "name": "stdout",
     "output_type": "stream",
     "text": [
      "Current character:  n\n"
     ]
    }
   ],
   "source": [
    "for char in 'Python':\n",
    "      if (char == 'y'):\n",
    "        continue\n",
    "print(\"Current character: \", char)"
   ]
  },
  {
   "cell_type": "code",
   "execution_count": null,
   "metadata": {},
   "outputs": [],
   "source": [
    "#Break Statement:\n",
    "The break statement is used to terminate the loop containing it, the control of the program will come out of that loop.\n",
    "\n",
    "Syntax:\n",
    "\n",
    "break\n"
   ]
  },
  {
   "cell_type": "code",
   "execution_count": 36,
   "metadata": {},
   "outputs": [
    {
     "name": "stdout",
     "output_type": "stream",
     "text": [
      "Current character:  h\n"
     ]
    }
   ],
   "source": [
    "for char in 'Python':\n",
    "      if (char == 'h'):\n",
    "        break       \n",
    "print(\"Current character: \", char)"
   ]
  },
  {
   "cell_type": "code",
   "execution_count": null,
   "metadata": {},
   "outputs": [],
   "source": [
    "#Pass Statement:\n",
    "Pass statement is python is a null operation, which is used when the statement is required syntactically.\n",
    "\n",
    "Syntax:\n",
    "\n",
    "pass"
   ]
  },
  {
   "cell_type": "code",
   "execution_count": 37,
   "metadata": {},
   "outputs": [
    {
     "name": "stdout",
     "output_type": "stream",
     "text": [
      "Current character:  n\n"
     ]
    }
   ],
   "source": [
    "for char in 'Python':\n",
    "      if (char == 'h'):\n",
    "        pass       \n",
    "print(\"Current character: \", char)"
   ]
  },
  {
   "cell_type": "code",
   "execution_count": null,
   "metadata": {},
   "outputs": [],
   "source": [
    "#Functions\n",
    "A function is a block of code which is used to perform some specific actions. \n",
    "A function provides higher modularity and code reusability.\n",
    "\n",
    "Functions help to break a large code into smaller modules.\n",
    "\n",
    "Syntax:\n",
    "\n",
    "def function_name(parameters): \n",
    "#Block of code or statements\n",
    "\n",
    "#Defining a Function\n",
    "Function block should always begin with the keyword ‘def, followed by the function name and parentheses.\n",
    "We can pass any number of parameters or arguments inside the parentheses.\n",
    "The block of a code of every function should begin with a colon (:)\n",
    "An optional ‘return’ statement to return a value from the function.\n",
    "\n",
    "Ex:\n",
    "def my_function():\n",
    "       print(“Hello Python”)\n",
    "\n",
    "#Python - defining function\n",
    "Simply defining a function is useless unless you call it.\n",
    "\n",
    "#Calling a Function\n",
    "\n",
    "Once the structure of a function is finalized, you can execute it by calling the function using the function name.\n",
    "\n",
    "Example:\n",
    "def my_function():\n",
    "       print(“Hello Python”)\n",
    "my_function()\n",
    "\n",
    "#Calling a Function using Parameters\n",
    "We can define any number of parameters while defining a function.\n",
    "Syntax:\n",
    "\n",
    "def my_function(parameters): \n",
    "\n",
    "#Block of code or statements\n",
    "\n",
    "Example:\n",
    "\n",
    "def my_function(fname):\n",
    "       print(“Current language is: “, fname)\n",
    "my_function(“Python”)\n",
    "my_function(“Java”)\n",
    "\n",
    "#Return Statement\n",
    "A return statement is used to return a value from the function.\n",
    "\n",
    "Example:\n",
    "def additions(a, b):\n",
    "       sum = a+b\n",
    "        return sum\n",
    "print(“Sum is: “, additions(2, 3))\n"
   ]
  },
  {
   "cell_type": "code",
   "execution_count": 43,
   "metadata": {},
   "outputs": [
    {
     "name": "stdout",
     "output_type": "stream",
     "text": [
      "Hello Python\n",
      "Current language is:  Python\n",
      "Current language is:  Java\n",
      "Sum is:  5\n"
     ]
    }
   ],
   "source": [
    "def my_function():\n",
    "       print(\"Hello Python\")\n",
    "my_function()\n",
    "\n",
    "def my_function(fname):\n",
    "       print(\"Current language is: \", fname)\n",
    "my_function(\"Python\")\n",
    "my_function(\"Java\")\n",
    "\n",
    "def additions(a, b):\n",
    "         sum = a+b\n",
    "         return sum\n",
    "print(\"Sum is: \", additions(2, 3))\n"
   ]
  },
  {
   "cell_type": "code",
   "execution_count": null,
   "metadata": {},
   "outputs": [],
   "source": [
    "#Function Arguments\n",
    "In python, we can call a function using 4 types of arguments:\n",
    "\n",
    "Required argument\n",
    "Keyworded argument\n",
    "Default argument\n",
    "Variable length arguments\n",
    "\n",
    "#1) Required Arguments:\n",
    "Required arguments are the arguments which are passed to a function in a sequential order,\n",
    "the number of arguments defined in a function should match with the function definition.\n",
    "\n",
    "#2)Keyworded Arguments:\n",
    "When we use keyword arguments in a function call, the caller identifies the arguments by the argument name.\n",
    "\n",
    "#3)Default Arguments:\n",
    "When a function is called without any arguments, then it uses the default argument.\n",
    "\n",
    "#4) Variable-length Arguments:\n",
    "If you want to process more arguments in a function than what you specified while defining a function,\n",
    "then these type of arguments can be used."
   ]
  },
  {
   "cell_type": "code",
   "execution_count": 104,
   "metadata": {},
   "outputs": [
    {
     "ename": "SyntaxError",
     "evalue": "invalid syntax (<ipython-input-104-fcc3d3cec2c4>, line 33)",
     "output_type": "error",
     "traceback": [
      "\u001b[0;36m  File \u001b[0;32m\"<ipython-input-104-fcc3d3cec2c4>\"\u001b[0;36m, line \u001b[0;32m33\u001b[0m\n\u001b[0;31m    for(key,value in data.items()):\u001b[0m\n\u001b[0m                                  ^\u001b[0m\n\u001b[0;31mSyntaxError\u001b[0m\u001b[0;31m:\u001b[0m invalid syntax\n"
     ]
    }
   ],
   "source": [
    "#1) Required Arguments:\n",
    "def addition(a, b):\n",
    "        sum = a+b\n",
    "        print(\"Sum of two numbers is:\", sum)\n",
    "addition(5, 6)\n",
    "\n",
    "#2)Keyworded Arguments:\n",
    "def language(lname):\n",
    "       print(\"Current language is:\", lname)\n",
    "language(lname = \"Python\")\n",
    "\n",
    "#3)Default Arguments:\n",
    "def country(cName = \"India\"):\n",
    "       print(\"Current country is:\", cName)\n",
    "country(\"New York\")\n",
    "country(\"London\")\n",
    "country()\n",
    "\n",
    "#4) Variable-length Arguments:\n",
    "#Non – Keyworded argument\n",
    "\n",
    "def add(*num):\n",
    "        sum = 0\n",
    "        for n in num:\n",
    "             sum = n+sum\n",
    "        print(\"Sum is:\", sum)\n",
    "add(2, 5)\n",
    "add(5, 3, 5)\n",
    "add(8, 78, 90)\n",
    "\n",
    "#Keyworded arguments\n",
    "def employee(**data):\n",
    "       for(key,value in data.items()):\n",
    "             print(\"The value {} is {}\" .format(key,value))              \n",
    "employee(Name = \"John\", Age = 20)\n"
   ]
  },
  {
   "cell_type": "code",
   "execution_count": null,
   "metadata": {},
   "outputs": [],
   "source": [
    "Input-Output in Python\n",
    "Python provides some built-in functions to perform both input and output operations.\n",
    "\n",
    "#1) Output Operation\n",
    "In order to print the output, python provides us with a built-in function called print().\n",
    "\n",
    "Example:\n",
    "Print(“Hello Python”)\n",
    "\n",
    "#2) Reading Input from the keyboard (Input Operation)\n",
    "Python provides us with two inbuilt functions to read the input from the keyboard.\n",
    "\n",
    "raw_input()\n",
    "input()\n",
    "raw_input(): This function reads only one line from the standard input and returns it as a String.\n",
    "\n",
    "Note: This function is decommissioned in Python 3.\n",
    "    \n",
    "input(): The input() function first takes the input from the user and then evaluates the expression,\n",
    "which means python automatically identifies whether we entered a string or a number or list.\n",
    "\n",
    "But in Python 3 the raw_input() function was removed and renamed to input()."
   ]
  },
  {
   "cell_type": "code",
   "execution_count": 106,
   "metadata": {},
   "outputs": [
    {
     "name": "stdout",
     "output_type": "stream",
     "text": [
      "Please enter the value: Python\n",
      "Input received from the user is:  Python\n"
     ]
    }
   ],
   "source": [
    "value = input(\"Please enter the value: \");\n",
    "print(\"Input received from the user is: \", value)\n"
   ]
  },
  {
   "cell_type": "code",
   "execution_count": null,
   "metadata": {},
   "outputs": [],
   "source": [
    "#Files in Python\n",
    "A file is a named location on the disk which is used to store the data permanently.\n",
    "\n",
    "Here are some of the operations which you can perform on files:\n",
    "\n",
    "open a file\n",
    "read file\n",
    "write file\n",
    "close file\n",
    "\n",
    "#1) Open a File\n",
    "Python provides a built-in function called open() to open a file, and this\n",
    "function returns a file object called the handle and it is used to read or modify the file.\n",
    "\n",
    "Syntax:\n",
    "\n",
    "file_object = open(filename)"
   ]
  },
  {
   "cell_type": "code",
   "execution_count": 132,
   "metadata": {},
   "outputs": [
    {
     "name": "stdout",
     "output_type": "stream",
     "text": [
      "Writing test.txt\n"
     ]
    }
   ],
   "source": [
    "%%writefile test.txt\n",
    "Welcome to Calligo Technologies"
   ]
  },
  {
   "cell_type": "code",
   "execution_count": 133,
   "metadata": {},
   "outputs": [],
   "source": [
    "#I have a file called test.txt in my disk and I want to open it. This can be achieved by:\n",
    "#if the file is in the same directory\n",
    "f = open(\"test.txt\")\n",
    "#We can even specify the mode while opening the file as if we want to read, write or append etc.\n",
    "#If you don’t specify any mode by default, then it will be in reading mode."
   ]
  },
  {
   "cell_type": "code",
   "execution_count": null,
   "metadata": {},
   "outputs": [],
   "source": [
    "#2) Reading Data from the File\n",
    "In order to read the file, first, we need to open the file in reading mode."
   ]
  },
  {
   "cell_type": "code",
   "execution_count": 134,
   "metadata": {},
   "outputs": [
    {
     "name": "stdout",
     "output_type": "stream",
     "text": [
      "Welcome to Calligo Technologies\n",
      "\n",
      "\n"
     ]
    }
   ],
   "source": [
    "f = open(\"test.txt\", 'r')\n",
    "\n",
    "#To print the content of the whole file\n",
    "print(f.read())\n",
    "\n",
    "#To read only one line\n",
    "print(f.readline())\n"
   ]
  },
  {
   "cell_type": "code",
   "execution_count": 135,
   "metadata": {},
   "outputs": [
    {
     "data": {
      "text/plain": [
       "11"
      ]
     },
     "execution_count": 135,
     "metadata": {},
     "output_type": "execute_result"
    }
   ],
   "source": [
    "#3) Writing Data to File\n",
    "#In order to write the data into a file, we need to open the file in write mode.\n",
    "\n",
    "f = open(\"test.txt\", 'w')\n",
    "f.write(\"Hello Python \\n\")\n",
    "#in the above code ‘\\n’ is next line which means in the text file it will write Hello Python and point \n",
    "#the cursor to the next line\n",
    "f.write(\"Hello World\")\n"
   ]
  },
  {
   "cell_type": "code",
   "execution_count": 136,
   "metadata": {},
   "outputs": [
    {
     "name": "stdout",
     "output_type": "stream",
     "text": [
      "Hello Python \n",
      "Hello World\n"
     ]
    }
   ],
   "source": [
    "f = open(\"test.txt\", 'r')\n",
    "#To print the content of the whole file\n",
    "print(f.read())"
   ]
  },
  {
   "cell_type": "code",
   "execution_count": null,
   "metadata": {},
   "outputs": [],
   "source": [
    "#4) Close a File\n",
    "Every time when we open the file, as a good practice we need to ensure to close the file, \n",
    "In python, we can use close() function to close the file.\n",
    "\n",
    "When we close the file, it will free up the resources that were tied with the file."
   ]
  },
  {
   "cell_type": "code",
   "execution_count": 137,
   "metadata": {},
   "outputs": [
    {
     "name": "stdout",
     "output_type": "stream",
     "text": [
      "Hello Python \n",
      "Hello World\n"
     ]
    }
   ],
   "source": [
    "f = open(\"test.txt\", 'r')\n",
    "print (f.read())\n",
    "f.close()\n"
   ]
  },
  {
   "cell_type": "code",
   "execution_count": null,
   "metadata": {},
   "outputs": [],
   "source": [
    "#5) Create & Delete a File\n",
    "In python, we can create a new file using the open method.\n"
   ]
  },
  {
   "cell_type": "code",
   "execution_count": 141,
   "metadata": {},
   "outputs": [],
   "source": [
    "f = open(\"file.txt\", 'w')\n",
    "\n",
    "f.close()"
   ]
  },
  {
   "cell_type": "code",
   "execution_count": 128,
   "metadata": {},
   "outputs": [],
   "source": [
    "#Similarly, we can delete a file using the remove function imported from the os.\n",
    "\n",
    "import os\n",
    "os.remove(\"test.txt\")\n"
   ]
  },
  {
   "cell_type": "code",
   "execution_count": 11,
   "metadata": {},
   "outputs": [
    {
     "name": "stdout",
     "output_type": "stream",
     "text": [
      "File deleted successfully\n"
     ]
    }
   ],
   "source": [
    "#In order to avoid the occurrence of an error first, we need to check if the file already exists and then remove the file.\n",
    "import os\n",
    "if os.path.exists(\"file.txt\"):\n",
    "    os.remove(\"file.txt\")\n",
    "    print(\"File deleted successfully\")\n",
    "else:\n",
    "    print(\"The file does not exist\")\n"
   ]
  },
  {
   "cell_type": "code",
   "execution_count": null,
   "metadata": {},
   "outputs": [],
   "source": [
    "#Classes and Objects\n",
    "Python is an object-oriented programming language where programming stresses more on objects.\n",
    "Almost everything in Python is objects.\n",
    "\n",
    "#Classes\n",
    "Class in Python is a collection of objects, we can think of a class as a blueprint or sketch or prototype.\n",
    "It contains all the details of an object.\n",
    "\n",
    "In the real-world example, Animal is a class, because we have different kinds of Animals in the world\n",
    "and all of these are belongs to a class called Animal.\n",
    "\n",
    "#Defining a class\n",
    "\n",
    "In Python, we should define a class using the keyword ‘class’.\n",
    "\n",
    "Syntax:\n",
    "\n",
    "class classname:\n",
    "\n",
    "#Collection of statements or functions or classes\n",
    "\n",
    "Example:\n",
    "class MyClass:\n",
    "a = 10\n",
    "b = 20\n",
    "def add():\n",
    "sum = a+b\n",
    "print(sum)\n",
    "\n",
    "In the above example, we have declared the class called ‘Myclass’ and \n",
    "we have declared and defined some variables and functions respectively.\n",
    "\n",
    "To access those functions or variables present inside the class, \n",
    "we can use the class name by creating an object of it.\n",
    "\n",
    "First, lets see how to access those using class name."
   ]
  },
  {
   "cell_type": "code",
   "execution_count": 4,
   "metadata": {},
   "outputs": [
    {
     "name": "stdout",
     "output_type": "stream",
     "text": [
      "10\n"
     ]
    }
   ],
   "source": [
    "class MyClass:\n",
    "    a = 10\n",
    "    b = 20\n",
    "#Accessing variable present inside MyClass\n",
    "print(MyClass.a)"
   ]
  },
  {
   "cell_type": "code",
   "execution_count": null,
   "metadata": {},
   "outputs": [],
   "source": [
    "#Objects\n",
    "An object is usually an instance of a class. It is used to access everything present inside the class.\n",
    "\n",
    "#Creating an Object\n",
    "Syntax:\n",
    "variablename = classname\n",
    "\n",
    "#Example:\n",
    "ob = MyClass()\n",
    "\n",
    "This will create a new instance object named ‘ob’. \n",
    "Using this object name we can access all the attributes present inside the class MyClass."
   ]
  },
  {
   "cell_type": "code",
   "execution_count": 6,
   "metadata": {},
   "outputs": [
    {
     "name": "stdout",
     "output_type": "stream",
     "text": [
      "10\n",
      "20\n",
      "30\n"
     ]
    }
   ],
   "source": [
    "class MyClass:\n",
    "        a = 10\n",
    "        b = 20 \n",
    "        def add(self):\n",
    "                sum = self.a + self.b\n",
    "                print(sum)\n",
    "#Creating an object of class MyClass\n",
    "ob = MyClass()\n",
    "#Accessing function and variables present inside MyClass using the object\n",
    "print(ob.a)\n",
    "print(ob.b)\n",
    "ob.add()\n"
   ]
  },
  {
   "cell_type": "code",
   "execution_count": null,
   "metadata": {},
   "outputs": [],
   "source": [
    "#Constructor in Python\n",
    "Constructor in Python is a special method which is used to initialize the members \n",
    "of a class during run-time when an object is created.\n",
    "\n",
    "In Python, we have some special built-in class methods which start with \n",
    "a double underscore (__) and they have a special meaning in Python.\n",
    "\n",
    "The name of the constructor will always be __init__().\n",
    "\n",
    "Every class must have a constructor, even if you don’t create a constructor explicitly \n",
    "it will create a default constructor by itself.\n",
    "If we observe in the below example, we are not calling the __init__() method, \n",
    "because it will be called automatically when we create an object to that class and initialize the data members if any.\n",
    "Always remember that a constructor will never return any values, hence it does not contain any return statements."
   ]
  },
  {
   "cell_type": "code",
   "execution_count": 10,
   "metadata": {},
   "outputs": [
    {
     "name": "stdout",
     "output_type": "stream",
     "text": [
      "Sum of a and b is:  27\n"
     ]
    }
   ],
   "source": [
    "class MyClass:\n",
    "        sum = 0\n",
    "        def __init__ (self, a, b):\n",
    "            self.sum = a+b\n",
    "        def printSum(self):\n",
    "            print(\"Sum of a and b is: \", self.sum)\n",
    "#Creating an object of class MyClass\n",
    "ob = MyClass(12, 15)\n",
    "ob.printSum()"
   ]
  },
  {
   "cell_type": "code",
   "execution_count": null,
   "metadata": {},
   "outputs": [],
   "source": [
    "#Inheritance\n",
    "Inheritance is one of the most powerful concepts of OOPs.\n",
    "\n",
    "A class which inherits the properties of another class is called Inheritance.\n",
    "\n",
    "The class which inherits the properties is called child class/subclass and the class from which\n",
    "properties are inherited is called parent class/base class.\n",
    "\n",
    "Python provides three types of Inheritance:\n",
    "\n",
    "Single Inheritance\n",
    "Multilevel Inheritance\n",
    "Multiple Inheritance\n",
    "\n",
    "#1) Single Inheritance\n",
    "In Single inheritance, one class will inherit the properties of one class only.\n",
    "\n",
    "In the below example, we are inheriting the properties of the ‘Operations’ class into the class ‘MyClass’.\n",
    "\n",
    "Hence, we can access all the methods or statements present in the ‘Operations’ class by using the MyClass objects."
   ]
  },
  {
   "cell_type": "code",
   "execution_count": 16,
   "metadata": {},
   "outputs": [
    {
     "name": "stdout",
     "output_type": "stream",
     "text": [
      "Sum of a and b is:  30\n",
      "Subtraction of c and d is:  40\n"
     ]
    }
   ],
   "source": [
    "class Operations:\n",
    "        a = 10\n",
    "        b = 20\n",
    "        def add(self):\n",
    "                sum = self.a + self.b\n",
    "                print(\"Sum of a and b is: \", sum)\n",
    "class MyClass(Operations):\n",
    "        c = 50\n",
    "        d = 10\n",
    "        def sub(self):\n",
    "            sub = self.c - self.d\n",
    "            print(\"Subtraction of c and d is: \", sub)\n",
    "ob = MyClass()\n",
    "ob.add()\n",
    "ob.sub()"
   ]
  },
  {
   "cell_type": "code",
   "execution_count": null,
   "metadata": {},
   "outputs": [],
   "source": [
    "#2) Multilevel Inheritance\n",
    "In multilevel Inheritance, one or more class act as a base class.\n",
    "\n",
    "Which means the second class will inherit the properties of the first class and the third class will\n",
    "inherit the properties of the second class. So the second class will act as both the Parent class as well as Child class.\n",
    "\n",
    "In the above example, class ‘Subtraction’ inherits the properties of class ‘Addition’ and\n",
    "class ‘Multiplication’ will inherit the properties of class ‘Subtraction’. \n",
    "So class ‘Subtraction’ will act as both Base class and derived class."
   ]
  },
  {
   "cell_type": "code",
   "execution_count": 18,
   "metadata": {},
   "outputs": [
    {
     "name": "stdout",
     "output_type": "stream",
     "text": [
      "Sum of a and b is:  30\n",
      "Subtraction of a and b is:  10\n",
      "Multiplication of a and b is:  200\n"
     ]
    }
   ],
   "source": [
    "class Addition:\n",
    "        a = 10\n",
    "        b = 20\n",
    "        def add(self):\n",
    "                sum = self.a + self.b\n",
    "                print(\"Sum of a and b is: \", sum)\n",
    "class Subtraction(Addition):\n",
    "        def sub(self):\n",
    "                sub = self.b-self.a\n",
    "                print(\"Subtraction of a and b is: \", sub)\n",
    "class Multiplication(Subtraction):\n",
    "       def mul(self):\n",
    "                multi = self.a * self.b\n",
    "                print(\"Multiplication of a and b is: \", multi)\n",
    "ob = Multiplication ()\n",
    "ob.add()\n",
    "ob.sub()\n",
    "ob.mul()"
   ]
  },
  {
   "cell_type": "code",
   "execution_count": 20,
   "metadata": {},
   "outputs": [
    {
     "name": "stdout",
     "output_type": "stream",
     "text": [
      "Sum of a and b is:  30\n",
      "Subtraction of c and d is:  40\n",
      "Multiplication of a and c is:  500\n"
     ]
    }
   ],
   "source": [
    "#3) Multiple Inheritance\n",
    "#The class which inherits the properties of multiple classes is called Multiple Inheritance.\n",
    "class Addition:\n",
    "        a = 10\n",
    "        b = 20\n",
    "        def add(self):\n",
    "                sum = self. a+ self.b\n",
    "                print(\"Sum of a and b is: \", sum)\n",
    "class Subtraction():\n",
    "        c = 50\n",
    "        d = 10\n",
    "        def sub(self):\n",
    "                sub = self.c-self.d\n",
    "                print(\"Subtraction of c and d is: \", sub)\n",
    "class Multiplication(Addition,Subtraction):\n",
    "        def mul(self):\n",
    "                multi = self.a * self.c\n",
    "                print(\"Multiplication of a and c is: \", multi)\n",
    "ob = Multiplication ()\n",
    "ob.add()\n",
    "ob.sub()\n",
    "ob.mul()\n"
   ]
  },
  {
   "cell_type": "code",
   "execution_count": 21,
   "metadata": {},
   "outputs": [
    {
     "name": "stdout",
     "output_type": "stream",
     "text": [
      "30\n"
     ]
    }
   ],
   "source": [
    "#Method Overloading in Python\n",
    "#Multiple methods with the same name but with a different type of parameter or a different\n",
    "#number of parameters is called Method overloading.\n",
    "def product(a, b):\n",
    "        p = a*b\n",
    "        print(p)\n",
    "def product(a, b, c):\n",
    "        p = a*b*c\n",
    "        print(p)\n",
    "#Gives you an error saying one more argument is missing as it updated to the second function\n",
    "#product(2, 3)\n",
    "product(2, 3, 5)\n",
    "\n",
    "#Method overloading is not supported in Python, because if we see in the above example we have \n",
    "#defined two functions with the same name ‘product’ but with a different number of parameters.\n",
    "\n",
    "#But in Python, the latest defined will get updated, hence the function product(a,b) will become useless."
   ]
  },
  {
   "cell_type": "code",
   "execution_count": 7,
   "metadata": {},
   "outputs": [
    {
     "ename": "TypeError",
     "evalue": "sayHi() takes 0 positional arguments but 1 was given",
     "output_type": "error",
     "traceback": [
      "\u001b[0;31m---------------------------------------------------------------------------\u001b[0m",
      "\u001b[0;31mTypeError\u001b[0m                                 Traceback (most recent call last)",
      "\u001b[0;32m<ipython-input-7-e79a6dbb4fec>\u001b[0m in \u001b[0;36m<module>\u001b[0;34m\u001b[0m\n\u001b[1;32m     10\u001b[0m         \u001b[0mprint\u001b[0m\u001b[0;34m(\u001b[0m\u001b[0;34m\"I am in B\"\u001b[0m\u001b[0;34m)\u001b[0m\u001b[0;34m\u001b[0m\u001b[0;34m\u001b[0m\u001b[0m\n\u001b[1;32m     11\u001b[0m \u001b[0mob\u001b[0m \u001b[0;34m=\u001b[0m \u001b[0mB\u001b[0m\u001b[0;34m(\u001b[0m\u001b[0;34m)\u001b[0m\u001b[0;34m\u001b[0m\u001b[0;34m\u001b[0m\u001b[0m\n\u001b[0;32m---> 12\u001b[0;31m \u001b[0mob\u001b[0m\u001b[0;34m.\u001b[0m\u001b[0msayHi\u001b[0m\u001b[0;34m(\u001b[0m\u001b[0;34m)\u001b[0m\u001b[0;34m\u001b[0m\u001b[0;34m\u001b[0m\u001b[0m\n\u001b[0m",
      "\u001b[0;31mTypeError\u001b[0m: sayHi() takes 0 positional arguments but 1 was given"
     ]
    }
   ],
   "source": [
    "#Method Overriding in Python\n",
    "#If a subclass method has the same name which is declared in the superclass method then it is called Method overriding\n",
    "#To achieve method overriding we must use inheritance.\n",
    "\n",
    "class A:\n",
    "    def sayHi():\n",
    "        print(\"I am in A\")\n",
    "class B(A):\n",
    "    def sayHi():\n",
    "        print(\"I am in B\")\n",
    "ob = B()\n",
    "ob.sayHi()"
   ]
  },
  {
   "cell_type": "code",
   "execution_count": 9,
   "metadata": {},
   "outputs": [
    {
     "ename": "SyntaxError",
     "evalue": "invalid syntax (<ipython-input-9-664491b8dd4c>, line 5)",
     "output_type": "error",
     "traceback": [
      "\u001b[0;36m  File \u001b[0;32m\"<ipython-input-9-664491b8dd4c>\"\u001b[0;36m, line \u001b[0;32m5\u001b[0m\n\u001b[0;31m    Class MyClass:\u001b[0m\n\u001b[0m                ^\u001b[0m\n\u001b[0;31mSyntaxError\u001b[0m\u001b[0;31m:\u001b[0m invalid syntax\n"
     ]
    }
   ],
   "source": [
    "#Data Hiding in Python\n",
    "#Data hiding means making the data private so that it will not be accessible to the other class members.\n",
    "#It can be accessed only in the class where it is declared.\n",
    "#In python, if we want to hide the variable, then we need to write double underscore (__) before the variable name.\n",
    "Class MyClass:\n",
    "        __num = 10\n",
    "        def add(self, a):\n",
    "                sum = self.__num + a\n",
    "                print(sum)\n",
    "ob = MyClass()\n",
    "ob.add(20)\n",
    "print(ob.__num)\n",
    "#The above statement gives an error because we are trying to access private variable outside the class"
   ]
  },
  {
   "cell_type": "code",
   "execution_count": null,
   "metadata": {},
   "outputs": [],
   "source": [
    "The class is a blueprint or template which contains all the details of an object, \n",
    "where the object is an instance of a class.\n",
    "\n",
    "If we want to get the properties of another class into a class, then this can be achieved by inheritance.\n",
    "Inheritance is of 3 types- Single Inheritance, Multilevel Inheritance, and Multiple Inheritance.\n",
    "Method overloading is not supported in Python.\n",
    "Method overriding is used to override the implementation of the same function which is defined in another class.\n",
    "We can make the data attributes as private or hide them so that it will not be accessible\n",
    "outside the class where it is defined."
   ]
  },
  {
   "cell_type": "code",
   "execution_count": null,
   "metadata": {},
   "outputs": [],
   "source": [
    "#Python DateTime\n",
    "In Python, date, time and DateTime are inbuilt classes which provide us with a number of inbuilt \n",
    "functions to deal with DateTime.\n",
    "\n",
    "These functions are used to get the current date, time and day.\n",
    "Lets see some of the examples for all the above."
   ]
  },
  {
   "cell_type": "code",
   "execution_count": 53,
   "metadata": {},
   "outputs": [
    {
     "name": "stdout",
     "output_type": "stream",
     "text": [
      "Today’s date is 2019-11-18\n",
      "Weekday number is: 0\n",
      "Date components are: 18 11 2019\n"
     ]
    }
   ],
   "source": [
    "from datetime import date\n",
    "def test_date():\n",
    "    today = date.today()\n",
    "    print(\"Today’s date is\", today)\n",
    "    print(\"Weekday number is:\", today.weekday())\n",
    "    print(\"Date components are:\", today.day, today.month, today.year)\n",
    "test_date()"
   ]
  },
  {
   "cell_type": "code",
   "execution_count": 83,
   "metadata": {},
   "outputs": [
    {
     "name": "stdout",
     "output_type": "stream",
     "text": [
      "Current date and time is: 2019-11-18 15:29:13.685115\n"
     ]
    }
   ],
   "source": [
    "from datetime import datetime\n",
    "def test_date():\n",
    "       today = datetime.now()\n",
    "       #Print the curren date and time\n",
    "       print(\"Current date and time is:\", today)\n",
    "          #  time = datetime.time(datetime.now())\n",
    "            #to retrieve the current time\n",
    "           # print(\"Current time is:\", time)\n",
    "\n",
    "test_date()\n"
   ]
  },
  {
   "cell_type": "code",
   "execution_count": 80,
   "metadata": {},
   "outputs": [
    {
     "name": "stdout",
     "output_type": "stream",
     "text": [
      "Current date and time is: 2019-11-18 15:28:06.225203\n",
      "Current date and time using strftime method: 19-11-18-15-28\n",
      "Current year is: 2019\n",
      "Month of year is: November\n",
      "Week number of the year is: 46\n",
      "Weekday of the week is: 1\n",
      "Day of the year is: 322\n",
      "Day of the month is: 18\n",
      "Day of the week is: Monday\n"
     ]
    }
   ],
   "source": [
    "import datetime\n",
    "print(\"Current date and time is:\", datetime.datetime.now())\n",
    "print(\"Current date and time using strftime method:\", datetime.datetime.now().strftime(\"%y-%m-%d-%H-%M\"))\n",
    "print(\"Current year is:\", datetime.date.today().strftime(\"%Y\"))\n",
    "print(\"Month of year is:\", datetime.date.today().strftime(\"%B\"))\n",
    "print(\"Week number of the year is:\", datetime.date.today().strftime(\"%W\"))\n",
    "print(\"Weekday of the week is:\", datetime.date.today().strftime(\"%w\"))\n",
    "print(\"Day of the year is:\", datetime.date.today().strftime(\"%j\"))\n",
    "print(\"Day of the month is:\", datetime.date.today().strftime(\"%d\"))\n",
    "print(\"Day of the week is:\", datetime.date.today().strftime(\"%A\"))"
   ]
  },
  {
   "cell_type": "code",
   "execution_count": null,
   "metadata": {},
   "outputs": [],
   "source": [
    "#Python String Functions\n",
    "Lets take a look at the various string functions in Python.\n",
    "\n",
    "#1) String Replace\n",
    "This method is used to replace the string, which accepts two arguments.\n",
    "\n",
    "#2) String Reverse\n",
    "This method is used to reverse a given string.\n",
    "\n",
    "#3) String Join\n",
    "This method returns the string concatenated with the elements of iterable.\n",
    "\n",
    "#4) String Split\n",
    "This method is used to split the string based on the user arguments\n",
    "\n",
    "#5) String Length\n",
    "This method returns the length of the String.\n",
    "\n",
    "#6) String Compare\n",
    "This method is used to compare two strings.\n",
    "\n",
    "#7) String Lowercase\n",
    "This method is used to convert the uppercase to lowercase.\n"
   ]
  },
  {
   "cell_type": "code",
   "execution_count": 100,
   "metadata": {},
   "outputs": [
    {
     "name": "stdout",
     "output_type": "stream",
     "text": [
      "Hello Python\n",
      "nohtyP\n",
      "1ABC2ABC3\n",
      "['Welcome', 'to', 'Python']\n",
      "6\n",
      "Both strings are equal\n",
      "python\n",
      "PYTHON\n"
     ]
    }
   ],
   "source": [
    "lang = \"Hello Selenium\"\n",
    "print(lang.replace(\"Selenium\", \"Python\"))\n",
    "\n",
    "lang = \"Python\"\n",
    "print(''.join(reversed(lang)))\n",
    "\n",
    "s1 = \"ABC\"\n",
    "s2 = \"123\"\n",
    "print(s1.join(s2))\n",
    "\n",
    "text = \"Welcome to Python\"\n",
    "print(text.split())\n",
    "\n",
    "text = \"Python\"\n",
    "print(len(text))\n",
    "\n",
    "s1 = \"Python\"\n",
    "s2 = \"Python\"\n",
    "if(s1 == s2):\n",
    "      print(\"Both strings are equal\")\n",
    "\n",
    "text = \"Python\"\n",
    "print(text.lower())\n",
    "print(text.upper())\n"
   ]
  },
  {
   "cell_type": "code",
   "execution_count": null,
   "metadata": {},
   "outputs": [],
   "source": [
    "#How Python Handle Files\n",
    "If you are working in a large software application where they process a large number of data, \n",
    "then we cannot expect those data to be stored in a variable as the variables are volatile in nature.\n",
    "\n",
    "Hence when are you about to handle such situations, the role of files will come into the picture.\n",
    "\n",
    "As files are non-volatile in nature, the data will be stored permanently in a secondary device like \n",
    "Hard Disk and using python we will handle these files in our applications.\n",
    "\n",
    "#Are you thinking about how python will handle files?\n",
    "\n",
    "Let’s take an Example of how normal people will handle the files. If we want to read the data from \n",
    "a file or write the data into a file, then, first of all, we will open the file or will create a \n",
    "new file if the file does not exist and then perform the normal read/write operations, save the file and close it.\n",
    "\n",
    "Similarly, we do the same operations in python using some in-built methods or functions.\n",
    "\n",
    "#Types Of File in Python\n",
    "There are two types of files in Python and each of them are explained below in detail with \n",
    "examples for your easy understanding.\n",
    "\n",
    "They are:\n",
    "1. Binary file\n",
    "2. Text file\n",
    "\n",
    "#Binary files in Python\n",
    "Most of the files that we see in our computer system are called binary files.\n",
    "\n",
    "Example:\n",
    "\n",
    "Document files: .pdf, .doc, .xls etc.\n",
    "Image files: .png, .jpg, .gif, .bmp etc.\n",
    "Video files: .mp4, .3gp, .mkv, .avi etc.\n",
    "Audio files: .mp3, .wav, .mka, .aac etc.\n",
    "Database files: .mdb, .accde, .frm, .sqlite etc.\n",
    "Archive files: .zip, .rar, .iso, .7z etc.\n",
    "Executable files: .exe, .dll, .class etc.\n",
    "\n",
    "All binary files follow a specific format. We can open some binary files in the normal \n",
    "text editor but we can’t read the content present inside the file. That’s because all the binary files \n",
    "will be encoded in the binary format, which can be understood only by a computer or machine.\n",
    "\n",
    "For handling such binary files we need a specific type of software to open it.\n",
    "\n",
    "For Example, You need Microsoft word software to open .doc binary files. Likewise, you need a pdf reader\n",
    "software to open .pdf binary files and you need a photo editor software to read the image files and so on.\n",
    "\n",
    "#Text files in Python\n",
    "Text files don’t have any specific encoding and it can be opened in normal text editor itself.\n",
    "\n",
    "Example:\n",
    "\n",
    "Web standards: html, XML, CSS, JSON etc.\n",
    "Source code: c, app, js, py, java etc.\n",
    "Documents: txt, tex, RTF etc.\n",
    "Tabular data: csv, tsv etc.\n",
    "Configuration: ini, cfg, reg etc.\n",
    "In this tutorial, we will see how to handle both text as well as binary files with some classic examples.\n",
    "\n",
    "#Python File Handling Operations\n",
    "Most importantly there are 4 types of operations that can be handled by Python on files:\n",
    "\n",
    "Open\n",
    "Read\n",
    "Write\n",
    "Close\n",
    "Other operations include:\n",
    "\n",
    "Rename\n",
    "Delete\n",
    "\n",
    "#Python Create and Open a File\n",
    "Python has an in-built function called open() to open a file.\n",
    "\n",
    "It takes a minimum of one argument as mentioned in the below syntax. The open method returns a \n",
    "file object which is used to access the write, read and other in-built methods.\n",
    "\n",
    "Syntax:\n",
    "\n",
    "file_object = open(file_name, mode)\n",
    "Here, file_name is the name of the file or the location of the file that you want to open, \n",
    "and file_name should have the file extension included as well. Which means in test.txt – the term test\n",
    "is the name of the file and .txt is the extension of the file.\n",
    "\n",
    "The mode in the open function syntax will tell Python as what operation you want to do on a file.\n",
    "\n",
    "'r' – Read Mode: Read mode is used only to read data from the file.\n",
    "'w' – Write Mode: This mode is used when you want to write data into the file or modify it. \n",
    "Remember write mode overwrites the data present in the file.\n",
    "'a' – Append Mode: Append mode is used to append data to the file. \n",
    "Remember data will be appended at the end of the file pointer.\n",
    "'r+' – Read or Write Mode: This mode is used when we want to write or read the data from the same file.\n",
    "'a+' – Append or Read Mode: This mode is used when we want to read data from the file or append \n",
    "the data into the same file.\n",
    "Note: The above-mentioned modes are for opening, reading or writing text files only.\n",
    "\n",
    "While using binary files, we have to use the same modes with the letter 'b' at the end. So that Python can \n",
    "understand that we are interacting with binary files.\n",
    "\n",
    "‘wb’ – Open a file for write only mode in the binary format.\n",
    "‘rb’ – Open a file for the read-only mode in the binary format.\n",
    "‘ab’ – Open a file for appending only mode in the binary format.\n",
    "‘rb+’ – Open a file for read and write only mode in the binary format.\n",
    "‘ab+’ – Open a file for appending and read-only mode in the binary format.\n",
    "\n",
    "Example 1:\n",
    "\n",
    "fo = open(“C:/Documents/Python/test.txt”, “r+”)\n",
    "In the above example, we are opening the file named ‘test.txt’ \n",
    "present at the location ‘C:/Documents/Python/’ and we are opening the same file in a read-write mode \n",
    "which gives us more flexibility.\n",
    "\n",
    "Example 2:\n",
    "\n",
    "fo = open(“C:/Documents/Python/img.bmp”, “rb+”)\n",
    "In the above example, we are opening the file named ‘img.bmp’ present at the \n",
    "location “C:/Documents/Python/”, But, here we are trying to open the binary file.\n",
    "\n",
    "Python Read From File\n",
    "In order to read a file in python, we must open the file in read mode.\n",
    "\n",
    "There are three ways in which we can read the files in python.\n",
    "\n",
    "read([n])\n",
    "readline([n])\n",
    "readlines()\n",
    "Here, n is the number of bytes to be read."
   ]
  },
  {
   "cell_type": "code",
   "execution_count": 110,
   "metadata": {},
   "outputs": [
    {
     "name": "stdout",
     "output_type": "stream",
     "text": [
      "Writing reading.txt\n"
     ]
    }
   ],
   "source": [
    "%%writefile reading.txt\n",
    "Hello world\n",
    "Hello Python\n",
    "Welcome to Calligo"
   ]
  },
  {
   "cell_type": "code",
   "execution_count": 124,
   "metadata": {},
   "outputs": [
    {
     "name": "stdout",
     "output_type": "stream",
     "text": [
      "Hello world\n",
      "Hello Python\n",
      "Welcome to Calligo\n",
      "\n"
     ]
    }
   ],
   "source": [
    "myfile = open(\"/root/reading.txt\", \"r\")\n",
    "print(myfile.read())"
   ]
  },
  {
   "cell_type": "code",
   "execution_count": 126,
   "metadata": {},
   "outputs": [
    {
     "name": "stdout",
     "output_type": "stream",
     "text": [
      "Hello world\n",
      "\n",
      "['Hello Python\\n', 'Welcome to Calligo\\n']\n"
     ]
    }
   ],
   "source": [
    "myfile = open(\"/root/reading.txt\", \"r\")\n",
    "print(myfile.readline())\n",
    "print(myfile.readlines())"
   ]
  },
  {
   "cell_type": "code",
   "execution_count": 157,
   "metadata": {},
   "outputs": [
    {
     "name": "stdout",
     "output_type": "stream",
     "text": [
      "Welcome to Calligo\n",
      "\n"
     ]
    }
   ],
   "source": [
    "#Reading a specific line from a File\n",
    "line_number = 3\n",
    "myfile = open(\"/root/reading.txt\", \"r\")\n",
    "currentline = 1\n",
    "for line in myfile:\n",
    "         if (currentline == line_number):\n",
    "                    print(line)\n",
    "                    break\n",
    "         currentline = currentline +1"
   ]
  },
  {
   "cell_type": "code",
   "execution_count": 4,
   "metadata": {},
   "outputs": [
    {
     "name": "stdout",
     "output_type": "stream",
     "text": [
      "Hello world\n",
      "Hello Python\n",
      "Welcome to Calligo\n",
      "\n"
     ]
    }
   ],
   "source": [
    "#Reading the entire file at once\n",
    "myfile = \"/root/reading.txt\"\n",
    "filehandle = open(myfile, 'r')\n",
    "filedata = filehandle.read()\n",
    "print(filedata)"
   ]
  },
  {
   "cell_type": "code",
   "execution_count": null,
   "metadata": {},
   "outputs": [],
   "source": [
    "#Python Write to File\n",
    "In order to write data into a file, we must open the file in write mode.\n",
    "We need to be very careful while writing data into the file as it overwrites \n",
    "the content present inside the file that you are writing, and all the previous data will be erased.\n",
    "We have two methods for writing data into a file as shown below.\n",
    "\n",
    "write(string)\n",
    "writelines(list)"
   ]
  },
  {
   "cell_type": "code",
   "execution_count": 15,
   "metadata": {},
   "outputs": [
    {
     "data": {
      "text/plain": [
       "37"
      ]
     },
     "execution_count": 15,
     "metadata": {},
     "output_type": "execute_result"
    }
   ],
   "source": [
    "my_file = open(\"/root/test.txt\", 'w')\n",
    "my_file.write(\"Hello World\\n\")\n",
    "my_file.write(\"Hello Python.. Welcome to CalligoTech\")\n"
   ]
  },
  {
   "cell_type": "code",
   "execution_count": 16,
   "metadata": {},
   "outputs": [
    {
     "name": "stdout",
     "output_type": "stream",
     "text": [
      "Hello World\n",
      "Hello Python.. Welcome to CalligoTech\n"
     ]
    }
   ],
   "source": [
    "my_file = open(\"/root/test.txt\", \"r\")\n",
    "print(my_file.read())"
   ]
  },
  {
   "cell_type": "code",
   "execution_count": 25,
   "metadata": {},
   "outputs": [],
   "source": [
    "fruits = [\"Apple\\n\", \"Orange\\n\", \"Grapes\\n\", \"Watermelon\\n\"]\n",
    "my_file = open(\"/root/test.txt\", \"w\")\n",
    "my_file.writelines(fruits)\n"
   ]
  },
  {
   "cell_type": "code",
   "execution_count": 26,
   "metadata": {},
   "outputs": [
    {
     "name": "stdout",
     "output_type": "stream",
     "text": [
      "Apple\n",
      "Orange\n",
      "Grapes\n",
      "Watermelon\n",
      "\n"
     ]
    }
   ],
   "source": [
    "my_file = open(\"/root/test.txt\", \"r\")\n",
    "print(my_file.read())"
   ]
  },
  {
   "cell_type": "code",
   "execution_count": 36,
   "metadata": {},
   "outputs": [
    {
     "data": {
      "text/plain": [
       "10"
      ]
     },
     "execution_count": 36,
     "metadata": {},
     "output_type": "execute_result"
    }
   ],
   "source": [
    "#Python Append to File\n",
    "#To append data into a file we must open the file in ‘a+’ mode so that we will have access \n",
    "#to both the append as well as write modes.\n",
    "\n",
    "my_file = open(\"/root/test.txt\", \"a+\")\n",
    "my_file.write (\"Strawberry\")"
   ]
  },
  {
   "cell_type": "code",
   "execution_count": 39,
   "metadata": {},
   "outputs": [
    {
     "name": "stdout",
     "output_type": "stream",
     "text": [
      "Apple\n",
      "Orange\n",
      "Grapes\n",
      "Watermelon\n",
      "Strawberry\n",
      "\n"
     ]
    }
   ],
   "source": [
    "my_file = open(\"/root/test.txt\", \"r\")\n",
    "print(my_file.read())"
   ]
  },
  {
   "cell_type": "code",
   "execution_count": 41,
   "metadata": {},
   "outputs": [],
   "source": [
    "fruits = [\"\\nBanana\", \"\\nAvocado\", \"\\nFigs\", \"\\nMango\"]\n",
    "my_file = open(\"/root/test.txt\", \"a+\")\n",
    "my_file.writelines(fruits)\n"
   ]
  },
  {
   "cell_type": "code",
   "execution_count": 42,
   "metadata": {},
   "outputs": [
    {
     "name": "stdout",
     "output_type": "stream",
     "text": [
      "Apple\n",
      "Orange\n",
      "Grapes\n",
      "Watermelon\n",
      "Strawberry\n",
      "\n",
      "Banana\n",
      "Avocado\n",
      "Figs\n",
      "Mango\n"
     ]
    }
   ],
   "source": [
    "my_file = open(\"/root/test.txt\", \"r\")\n",
    "print(my_file.read())"
   ]
  },
  {
   "cell_type": "code",
   "execution_count": 52,
   "metadata": {},
   "outputs": [
    {
     "name": "stdout",
     "output_type": "stream",
     "text": [
      "where the file cursor is: 100\n",
      "Apple\n",
      "\n",
      "Orange\n",
      "\n",
      "Grapes\n",
      "\n",
      "Watermelon\n",
      "\n",
      "Strawberry\n",
      "\n",
      "\n",
      "\n",
      "Banana\n",
      "\n",
      "Avocado\n",
      "\n",
      "Figs\n",
      "\n",
      "Mango\n",
      "\n",
      "Hello\n",
      "\n",
      "Hi\n",
      "\n",
      "Python\n",
      "\n",
      "Hello\n",
      "\n",
      "Hi\n",
      "\n",
      "Python\n"
     ]
    }
   ],
   "source": [
    "#In this code, we are appending the list of data into the ‘test.txt’ file. \n",
    "#Here, you can observe that we have used the tell() method which prints where the cursor is currently at.\n",
    "\n",
    "#seek(offset): The offset takes three types of arguments namely 0,1 and 2.\n",
    "#When the offset is 0: Reference will be pointed at the beginning of the file.\n",
    "#When the offset is 1: Reference will be pointed at the current cursor position.\n",
    "#When the offset is 2: Reference will be pointed at the end of the file.\n",
    "\n",
    "text=[\"\\nHello\",\"\\nHi\",\"\\nPython\"]\n",
    "my_file=open(\"/root/test.txt\",mode=\"a+\")\n",
    "my_file.writelines(text)\n",
    "print(\"where the file cursor is:\",my_file.tell())\n",
    "my_file.seek(0)\n",
    "for line in my_file:\n",
    "      print(line)\n",
    "my_file.close() # In python, we have an in-built method called close() to close the file which is opened."
   ]
  },
  {
   "cell_type": "code",
   "execution_count": null,
   "metadata": {},
   "outputs": [],
   "source": [
    "#Python Rename or Delete File\n",
    "Python provides us with an “os” module which has some in-built methods \n",
    "that would help us in performing the file operations such as renaming and deleting the file.\n",
    "\n",
    "In order to use this module, first of all, we need to import the “os” module\n",
    "in our program and then call the related methods.\n",
    "\n",
    "#rename() method:\n",
    "\n",
    "This rename() method accepts two arguments i.e. the current file name and the new file name.\n",
    "\n",
    "Syntax:\n",
    "\n",
    "os.rename(current_file_name, new_file_name)"
   ]
  },
  {
   "cell_type": "code",
   "execution_count": 53,
   "metadata": {},
   "outputs": [],
   "source": [
    "import os\n",
    "os.rename(\"test.txt\", \"test1.txt\")"
   ]
  },
  {
   "cell_type": "code",
   "execution_count": null,
   "metadata": {},
   "outputs": [],
   "source": [
    "#remove() method:\n",
    "\n",
    "We use the remove() method to delete the file by supplying the file name or the file location that you want to delete.\n",
    "\n",
    "Syntax:\n",
    "\n",
    "os.remove(file_name)\n",
    "#Ex:\n",
    "import os\n",
    "os.remove(“test.txt”)\n"
   ]
  },
  {
   "cell_type": "code",
   "execution_count": null,
   "metadata": {},
   "outputs": [],
   "source": [
    "#Encoding in Files\n",
    "File encoding represents converting characters into a specific format which only a machine can understand.\n",
    "\n",
    "Different machines have different encoding format as shown below.\n",
    "\n",
    "Microsoft Windows OS uses ‘cp1252’ encoding format by default.\n",
    "Linux or Unix OS uses ‘utf-8’ encoding format by default.\n",
    "Apple’s MAC OS uses ‘utf-8’ or ‘utf-16’ encoding format by default.\n",
    "Let’s see the encoding operation with some examples.\n"
   ]
  },
  {
   "cell_type": "code",
   "execution_count": 61,
   "metadata": {},
   "outputs": [
    {
     "name": "stdout",
     "output_type": "stream",
     "text": [
      "Encoding format by default is: UTF-8\n"
     ]
    }
   ],
   "source": [
    "my_file = open(\"/root/test1.txt\", mode='r')\n",
    "print(\"Encoding format by default is:\", my_file.encoding)\n",
    "my_file.close()"
   ]
  },
  {
   "cell_type": "code",
   "execution_count": 70,
   "metadata": {},
   "outputs": [
    {
     "name": "stdout",
     "output_type": "stream",
     "text": [
      "What is the file name?  /root/test1.txt\n",
      "What is the file mode?  r\n",
      "What is the encoding format?  UTF-8\n",
      "File no: 61\n",
      "Is File closed?  False\n",
      "Is File closed?  True\n"
     ]
    }
   ],
   "source": [
    "my_file = open(\"/root/test1.txt\", mode='r')\n",
    "print(\"What is the file name? \", my_file.name)\n",
    "print(\"What is the file mode? \", my_file.mode)\n",
    "print(\"What is the encoding format? \", my_file.encoding)\n",
    "print(\"File no:\", my_file.fileno())\n",
    "print(\"Is File closed? \", my_file.closed)\n",
    "my_file.close()\n",
    "print(\"Is File closed? \", my_file.closed)"
   ]
  },
  {
   "cell_type": "code",
   "execution_count": 72,
   "metadata": {},
   "outputs": [
    {
     "name": "stdout",
     "output_type": "stream",
     "text": [
      "Is file readable: ? False\n",
      "Is file writeable: ? True\n"
     ]
    }
   ],
   "source": [
    "my_file = open(\"/root/test1.txt\", mode='w')\n",
    "my_file.write(\"Hello Python\\nHello World\\nGood Morning\")\n",
    "my_file.seek(0)\n",
    "\n",
    "print(\"Is file readable: ?\", my_file.readable())\n",
    "print(\"Is file writeable: ?\", my_file.writable())"
   ]
  },
  {
   "cell_type": "code",
   "execution_count": 73,
   "metadata": {},
   "outputs": [
    {
     "name": "stdout",
     "output_type": "stream",
     "text": [
      "What is the file name?  /root/test.txt\n",
      "What is the mode of the file?  w+\n",
      "What is the encoding format? UTF-8\n",
      "Size of the file is: 192\n",
      "Cursor position is at byte: 34\n",
      "Content of the file is: Hello Python\n",
      "Good Morning\n",
      "Good Bye\n",
      "Data present at current line is: Good Bye\n"
     ]
    }
   ],
   "source": [
    "my_file = open(\"/root/test.txt\", mode=\"w+\")\n",
    "print(\"What is the file name? \", my_file.name)\n",
    "print(\"What is the mode of the file? \", my_file.mode)\n",
    "print(\"What is the encoding format?\", my_file.encoding)\n",
    "\n",
    "text = [\"Hello Python\\n\", \"Good Morning\\n\", \"Good Bye\"]\n",
    "my_file.writelines(text)\n",
    "print(\"Size of the file is:\", my_file.__sizeof__())\n",
    "print(\"Cursor position is at byte:\", my_file.tell())\n",
    "my_file.seek(0)\n",
    "print(\"Content of the file is:\", my_file.read())\n",
    "my_file.close()\n",
    "\n",
    "\n",
    "file = open(\"/root/test.txt\", mode=\"r\")\n",
    "line_number = 3\n",
    "current_line = 1\n",
    "data = 0\n",
    "for line in file:\n",
    "    if current_line == line_number:\n",
    "        data = line\n",
    "        print(\"Data present at current line is:\", data)\n",
    "        break\n",
    "    current_line = current_line + 1\n",
    "\n",
    "#bin_file = open(\"C:/Documents/Python/bfile.exe\", mode=\"wb+\")\n",
    "#message_content = data.encode(\"utf-32\")\n",
    "#bin_file.write(message_content)\n",
    "#bin_file.seek(0)\n",
    "#bdata = bin_file.read()\n",
    "#print(\"Binary Data is:\", bdata)\n",
    "#ndata = bdata.decode(\"utf-32\")\n",
    "#print(\"Normal Data is:\", ndata)\n",
    "#file.close()\n",
    "#bin_file.close()"
   ]
  },
  {
   "cell_type": "code",
   "execution_count": null,
   "metadata": {},
   "outputs": [],
   "source": [
    "#What is a Function?\n",
    "A function is a block of code which is used to perform some action, and it is also called as reusable code. \n",
    "A function provides higher modularity and code re-usability.\n",
    "\n",
    "#What is the Main Function?\n",
    "\n",
    "If you observe or if you would have worked in other programming languages like C, C++, C#, Java etc. \n",
    "all these programming languages require the main function to execute \n",
    "the program and without it, we can’t execute a program.\n",
    "\n",
    "But it is not mandatory or necessary in python language, we can execute a python \n",
    "program with or without the use of the main function.\n",
    "\n",
    "#Python Main Function\n",
    "As Python is an interpreted language, it follows a top-down approach.\n",
    "Just because python is interpreted there is no static entry point to the program and \n",
    "the source code is executed sequentially and it doesn’t call any methods unless you manually call it.\n",
    "\n",
    "The most important factor in any programming language is the ‘modules’. \n",
    "The module is a program that can be included or imported to the other programs so that \n",
    "it can be reused in the future without writing the same module again.\n",
    "\n",
    "However, there is a special function in Python that helps us to invoke the functions \n",
    "automatically by operating the system during run-time or when the program is executed, \n",
    "and this is what we call as the main function.\n",
    "\n",
    "Even though it is not mandatory to use this function in Python, it is a good practice to \n",
    "use this function as it improves the logical structure of the code.\n",
    "\n",
    "Let’s see an example without the main function.\n",
    "\n",
    "Example 1:\n",
    "print(“Good Morning”)\n",
    "def main():\n",
    "          print(“Hello Python”)\n",
    "print(“Good Evening”)\n",
    "\n",
    "Output:\n",
    "\n",
    "Good Morning\n",
    "Good Evening\n",
    "\n",
    "If we observe the above program, it has printed only ‘Good Morning’ and ‘Good Evening’ \n",
    "and it did not print the term ‘Hello Python’ which is because we didn’t call it manually or we \n",
    "didn’t use the python’s main function here."
   ]
  },
  {
   "cell_type": "code",
   "execution_count": 75,
   "metadata": {},
   "outputs": [
    {
     "name": "stdout",
     "output_type": "stream",
     "text": [
      "Good Morning\n",
      "Good Evening\n"
     ]
    }
   ],
   "source": [
    "print(\"Good Morning\")\n",
    "def main():\n",
    "          print(\"Hello Python\")\n",
    "print(\"Good Evening\")"
   ]
  },
  {
   "cell_type": "code",
   "execution_count": 74,
   "metadata": {},
   "outputs": [
    {
     "name": "stdout",
     "output_type": "stream",
     "text": [
      "Good Morning\n",
      "Good Evening\n",
      "Hello Python\n"
     ]
    }
   ],
   "source": [
    "#Now let’s see the program with function call if __name__ == “__main__”.\n",
    "print(\"Good Morning\")\n",
    "def main():\n",
    "          print(\"Hello Python\")\n",
    "print(\"Good Evening\")\n",
    "if __name__ == \"__main__\":\n",
    "         main()\n"
   ]
  },
  {
   "cell_type": "code",
   "execution_count": 76,
   "metadata": {},
   "outputs": [
    {
     "name": "stdout",
     "output_type": "stream",
     "text": [
      "Good Morning\n",
      "Hello Python\n",
      "Good Evening\n"
     ]
    }
   ],
   "source": [
    "#If you observe the above program you may get a question – why Hello Python is printed? \n",
    "#That’s because we are calling the main function at the end of the code, \n",
    "#hence it prints ‘Good Morning’ first, ‘Good Evening’ next and ‘Hello Python’ at the end.\n",
    "\n",
    "#If you observe the below program you will get a still more clear picture.\n",
    "\n",
    "print(\"Good Morning\")\n",
    "def main():\n",
    "          print(\"Hello Python\")\n",
    "if __name__ == \"__main__\":\n",
    "         main()\n",
    "        \n",
    "print(\"Good Evening\")"
   ]
  },
  {
   "cell_type": "code",
   "execution_count": null,
   "metadata": {},
   "outputs": [],
   "source": [
    "#What is if __name__ == “__main__” ?\n",
    "\n",
    "As discussed earlier, Python is an interpreted programming language and the interpreter starts \n",
    "executing the code as soon as the program is executed.\n",
    "\n",
    "During this time, the interpreter sets so many implicit variables, and one of \n",
    "them is __name__ and __main__ is the value which is set to the variable. \n",
    "Remember, that we have to define a function for python main function and by \n",
    "using if __name__ == “__main__” we can execute the function.\n",
    "\n",
    "When the interpreter reads the line if __name__ == “__main__”, then it encounters if statement \n",
    "as if is a conditional statement and it checked the condition whether implicit variable __name__ is equal\n",
    "to the value __main__.\n",
    "\n",
    "If you consider any other programming languages like C, C++, Java, etc. we have to write the main function\n",
    "as main itself as it is a common standard. But Python is very flexible and it allows to keep any \n",
    "name for the main function, however, it is a good practice to keep the name as the main() function."
   ]
  },
  {
   "cell_type": "code",
   "execution_count": 77,
   "metadata": {},
   "outputs": [
    {
     "name": "stdout",
     "output_type": "stream",
     "text": [
      "Apple\n",
      "Mango\n",
      "Orange\n"
     ]
    }
   ],
   "source": [
    "print(\"Apple\")\n",
    "def my_main():\n",
    "            print(\"Mango\")\n",
    "if __name__ == \"__main__\":\n",
    "         my_main()\n",
    "\n",
    "print(\"Orange\")\n"
   ]
  },
  {
   "cell_type": "code",
   "execution_count": 78,
   "metadata": {},
   "outputs": [
    {
     "name": "stdout",
     "output_type": "stream",
     "text": [
      "Good Morning\n",
      "Value of implicit variable __name__ is:  __main__\n",
      "Good Evening\n",
      "Hello Python\n"
     ]
    }
   ],
   "source": [
    "print(\"Good Morning\")\n",
    "print(\"Value of implicit variable __name__ is: \", __name__)\n",
    "\n",
    "def main():\n",
    "           print(\"Hello Python\")\n",
    "print(\"Good Evening\")\n",
    "\n",
    "if __name__ == \"__main__\":\n",
    "          main()\n"
   ]
  },
  {
   "cell_type": "code",
   "execution_count": null,
   "metadata": {},
   "outputs": [],
   "source": [
    "#Importing Python Main function\n",
    "Calling a function from another program\n",
    "\n",
    "Before we get into the concept of importing the main function as a module, let us first understand\n",
    "how to use the functions present inside one program into another program.\n"
   ]
  },
  {
   "cell_type": "code",
   "execution_count": 80,
   "metadata": {},
   "outputs": [
    {
     "name": "stdout",
     "output_type": "stream",
     "text": [
      "Writing testpy.py\n"
     ]
    }
   ],
   "source": [
    "%%writefile testpy.py\n",
    "def my_fun(a, b):\n",
    "            c = a+b\n",
    "            print(\"Sum of a and b is: \", c)"
   ]
  },
  {
   "cell_type": "code",
   "execution_count": 81,
   "metadata": {},
   "outputs": [
    {
     "name": "stdout",
     "output_type": "stream",
     "text": [
      "Sum of a and b is:  5\n",
      "Done\n"
     ]
    }
   ],
   "source": [
    "import testpy\n",
    "testpy.my_fun(2, 3)\n",
    "print(\"Done\")\n"
   ]
  },
  {
   "cell_type": "code",
   "execution_count": null,
   "metadata": {},
   "outputs": [],
   "source": []
  },
  {
   "cell_type": "code",
   "execution_count": null,
   "metadata": {},
   "outputs": [],
   "source": []
  },
  {
   "cell_type": "code",
   "execution_count": null,
   "metadata": {},
   "outputs": [],
   "source": []
  },
  {
   "cell_type": "code",
   "execution_count": null,
   "metadata": {},
   "outputs": [],
   "source": []
  },
  {
   "cell_type": "code",
   "execution_count": null,
   "metadata": {},
   "outputs": [],
   "source": []
  },
  {
   "cell_type": "code",
   "execution_count": null,
   "metadata": {},
   "outputs": [],
   "source": []
  },
  {
   "cell_type": "code",
   "execution_count": null,
   "metadata": {},
   "outputs": [],
   "source": []
  },
  {
   "cell_type": "code",
   "execution_count": null,
   "metadata": {},
   "outputs": [],
   "source": []
  }
 ],
 "metadata": {
  "kernelspec": {
   "display_name": "Python 3",
   "language": "python",
   "name": "python3"
  },
  "language_info": {
   "codemirror_mode": {
    "name": "ipython",
    "version": 3
   },
   "file_extension": ".py",
   "mimetype": "text/x-python",
   "name": "python",
   "nbconvert_exporter": "python",
   "pygments_lexer": "ipython3",
   "version": "3.6.8"
  }
 },
 "nbformat": 4,
 "nbformat_minor": 2
}
