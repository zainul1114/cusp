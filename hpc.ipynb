{
 "cells": [
  {
   "cell_type": "code",
   "execution_count": 1,
   "metadata": {},
   "outputs": [
    {
     "name": "stdout",
     "output_type": "stream",
     "text": [
      "gcc (GCC) 4.8.5 20150623 (Red Hat 4.8.5-16)\n",
      "Copyright (C) 2015 Free Software Foundation, Inc.\n",
      "This is free software; see the source for copying conditions.  There is NO\n",
      "warranty; not even for MERCHANTABILITY or FITNESS FOR A PARTICULAR PURPOSE.\n",
      "\n"
     ]
    }
   ],
   "source": [
    "!mpicc --version"
   ]
  },
  {
   "cell_type": "code",
   "execution_count": 2,
   "metadata": {},
   "outputs": [
    {
     "name": "stdout",
     "output_type": "stream",
     "text": [
      "mpirun (Open MPI) 2.1.1\n",
      "\n",
      "Report bugs to http://www.open-mpi.org/community/help/\n"
     ]
    }
   ],
   "source": [
    "!mpirun --version"
   ]
  },
  {
   "cell_type": "code",
   "execution_count": 3,
   "metadata": {},
   "outputs": [
    {
     "name": "stdout",
     "output_type": "stream",
     "text": [
      "Writing hello.c\n"
     ]
    }
   ],
   "source": [
    "%%writefile hello.c\n",
    "#include \"mpi.h\"\n",
    "#include <stdio.h>\n",
    "#include <stdlib.h>\n",
    "#define  MASTER\t0\n",
    "\n",
    "int main (int argc, char *argv[])\n",
    "{\n",
    "int   numtasks, taskid, len;\n",
    "char hostname[MPI_MAX_PROCESSOR_NAME];\n",
    "\n",
    "MPI_Init(&argc, &argv);\n",
    "MPI_Comm_size(MPI_COMM_WORLD, &numtasks);\n",
    "MPI_Comm_rank(MPI_COMM_WORLD,&taskid);\n",
    "MPI_Get_processor_name(hostname, &len);\n",
    "printf (\"Hello from task %d on %s!\\n\", taskid, hostname);\n",
    "\n",
    "if (taskid == MASTER)\n",
    "   printf(\"MASTER: Number of MPI tasks is: %d\\n\",numtasks);\n",
    "MPI_Finalize();\n",
    "}\n",
    "\n",
    "\n"
   ]
  },
  {
   "cell_type": "code",
   "execution_count": 4,
   "metadata": {},
   "outputs": [],
   "source": [
    "!mpicc -o hello hello.c"
   ]
  },
  {
   "cell_type": "code",
   "execution_count": 5,
   "metadata": {},
   "outputs": [
    {
     "name": "stdout",
     "output_type": "stream",
     "text": [
      "--------------------------------------------------------------------------\n",
      "WARNING: There is at least non-excluded one OpenFabrics device found,\n",
      "but there are no active ports detected (or Open MPI was unable to use\n",
      "them).  This is most certainly not what you wanted.  Check your\n",
      "cables, subnet manager configuration, etc.  The openib BTL will be\n",
      "ignored for this job.\n",
      "\n",
      "  Local host: master\n",
      "--------------------------------------------------------------------------\n",
      "Hello from task 1 on master.calligotech.com!\n",
      "Hello from task 3 on master.calligotech.com!\n",
      "Hello from task 15 on master.calligotech.com!\n",
      "Hello from task 2 on master.calligotech.com!\n",
      "Hello from task 4 on master.calligotech.com!\n",
      "Hello from task 14 on master.calligotech.com!\n",
      "Hello from task 5 on master.calligotech.com!\n",
      "Hello from task 6 on master.calligotech.com!\n",
      "Hello from task 12 on master.calligotech.com!\n",
      "Hello from task 13 on master.calligotech.com!\n",
      "Hello from task 0 on master.calligotech.com!\n",
      "Hello from task 7 on master.calligotech.com!\n",
      "Hello from task 8 on master.calligotech.com!\n",
      "Hello from task 9 on master.calligotech.com!\n",
      "Hello from task 10 on master.calligotech.com!\n",
      "Hello from task 11 on master.calligotech.com!\n",
      "MASTER: Number of MPI tasks is: 16\n",
      "[master.calligotech.com:05983] 15 more processes have sent help message help-mpi-btl-openib.txt / no active ports found\n",
      "[master.calligotech.com:05983] Set MCA parameter \"orte_base_help_aggregate\" to 0 to see all help / error messages\n"
     ]
    }
   ],
   "source": [
    "!mpirun hello"
   ]
  }
 ],
 "metadata": {
  "kernelspec": {
   "display_name": "Python 3",
   "language": "python",
   "name": "python3"
  },
  "language_info": {
   "codemirror_mode": {
    "name": "ipython",
    "version": 3
   },
   "file_extension": ".py",
   "mimetype": "text/x-python",
   "name": "python",
   "nbconvert_exporter": "python",
   "pygments_lexer": "ipython3",
   "version": "3.6.9"
  }
 },
 "nbformat": 4,
 "nbformat_minor": 4
}
