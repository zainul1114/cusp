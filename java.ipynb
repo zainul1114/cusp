{
 "cells": [
  {
   "cell_type": "code",
   "execution_count": null,
   "metadata": {},
   "outputs": [],
   "source": [
    "#https://github.com/jupyter/jupyter/wiki/Jupyter-kernels"
   ]
  },
  {
   "cell_type": "code",
   "execution_count": 1,
   "metadata": {},
   "outputs": [
    {
     "name": "stdout",
     "output_type": "stream",
     "text": [
      "Welcome to Calligo!\n"
     ]
    }
   ],
   "source": [
    "System.out.println(\"Welcome to Calligo!\");"
   ]
  },
  {
   "cell_type": "code",
   "execution_count": 1,
   "metadata": {},
   "outputs": [
    {
     "name": "stdout",
     "output_type": "stream",
     "text": [
      "0\n",
      "1\n",
      "2\n",
      "3\n",
      "4\n"
     ]
    }
   ],
   "source": [
    "int i = 0;\n",
    "do {\n",
    "  System.out.println(i);\n",
    "  i++;\n",
    "}\n",
    "while (i < 5);"
   ]
  },
  {
   "cell_type": "code",
   "execution_count": 2,
   "metadata": {},
   "outputs": [
    {
     "name": "stdout",
     "output_type": "stream",
     "text": [
      "123"
     ]
    }
   ],
   "source": [
    "ArrayList<Integer> list = new ArrayList<>();\n",
    "         \n",
    "list.add(1);\n",
    "list.add(2);\n",
    "list.add(3);\n",
    " \n",
    "list.forEach(System.out::print);"
   ]
  },
  {
   "cell_type": "code",
   "execution_count": 10,
   "metadata": {},
   "outputs": [
    {
     "name": "stdout",
     "output_type": "stream",
     "text": [
      "2020/5/12 15:10\n"
     ]
    }
   ],
   "source": [
    "        Calendar cal = Calendar.getInstance();\n",
    "        int year = cal.get(Calendar.YEAR);\n",
    "        int month = cal.get(Calendar.MONTH) + 1;\n",
    "        int day = cal.get(Calendar.DATE);\n",
    "        int hour = cal.get(Calendar.HOUR_OF_DAY);\n",
    "        int minute = cal.get(Calendar.MINUTE);\n",
    "        System.out.println(year + \"/\" + month + \"/\" + day + \" \" + hour + \":\" + minute);"
   ]
  },
  {
   "cell_type": "code",
   "execution_count": 23,
   "metadata": {},
   "outputs": [
    {
     "name": "stdout",
     "output_type": "stream",
     "text": [
      "First parameter present false\n",
      "Second parameter present true\n",
      "124\n"
     ]
    }
   ],
   "source": [
    "import java.util.Optional;\n",
    "\n",
    "public class MyOptional {\n",
    "    \n",
    "    public static void main() {\n",
    "        MyOptional program = new MyOptional();\n",
    "        \n",
    "        Integer value1 = null;\n",
    "        Integer value2 = 123;\n",
    "        \n",
    "        //.ofNullable allows null\n",
    "        Optional<Integer> a = Optional.ofNullable(value1);\n",
    "        \n",
    "        //.of does not allow null\n",
    "        Optional<Integer> b = Optional.of(value2);\n",
    "        System.out.println(program.sum(a,b));\n",
    "    }\n",
    "    \n",
    "    public Integer sum(Optional<Integer> first, Optional<Integer> second) {\n",
    "        System.out.println(\"First parameter present \" + first.isPresent());\n",
    "        System.out.println(\"Second parameter present \" + second.isPresent());\n",
    "        Integer value1 = first.orElse(1);\n",
    "        Integer value2 = second.orElse(1);\n",
    "        return value1 + value2;\n",
    "    }\n",
    "}\n",
    "\n",
    "new MyOptional().main();"
   ]
  },
  {
   "cell_type": "code",
   "execution_count": 25,
   "metadata": {},
   "outputs": [
    {
     "name": "stdout",
     "output_type": "stream",
     "text": [
      "---------------------\n",
      "Numbers greater than 2\n",
      "3\n",
      "3\n",
      "17\n",
      "7\n",
      "---------------------\n",
      "number size = 5\n",
      "---------------------\n",
      "biggest number = 17\n",
      "---------------------\n",
      "smallest number = -1\n",
      "---------------------\n",
      "Sorted\n",
      "-1\n",
      "3\n",
      "3\n",
      "7\n",
      "17\n",
      "---------------------\n",
      "Total 29\n",
      "---------------------\n",
      "Summary IntSummaryStatistics{count=5, sum=29, min=-1, average=5.800000, max=17}\n",
      "---------------------\n",
      "Squares\n",
      "9\n",
      "1\n",
      "9\n",
      "289\n",
      "49\n",
      "---------------------\n",
      "Growth\n",
      "-1\n",
      "-1\n",
      "1\n",
      "3\n",
      "3\n",
      "7\n",
      "9\n",
      "9\n",
      "17\n",
      "27\n",
      "27\n",
      "49\n",
      "289\n",
      "343\n",
      "4913\n",
      "---------------------\n",
      "Distinct growth\n",
      "-1\n",
      "1\n",
      "3\n",
      "7\n",
      "9\n",
      "17\n",
      "27\n",
      "49\n",
      "289\n",
      "343\n",
      "4913\n"
     ]
    }
   ],
   "source": [
    "import java.util.ArrayList;\n",
    "import java.util.Arrays;\n",
    "import java.util.List;\n",
    "import java.util.stream.Collectors;\n",
    "import java.util.stream.Stream;\n",
    "\n",
    "public class MyStreams {\n",
    "\n",
    "    static Stream<Integer> build(Integer i) {\n",
    "        List<Integer> t = new ArrayList<Integer>();\n",
    "        t.add(i);\n",
    "        t.add(i*i);\n",
    "        t.add(i*i*i);\n",
    "        return t.stream();\n",
    "    }\n",
    "    \n",
    "    public static void main() {\n",
    "        List<Integer> numbers = new ArrayList<Integer>();\n",
    "        numbers.add(3);\n",
    "        numbers.add(-1);\n",
    "        numbers.add(3);\n",
    "        numbers.add(17);\n",
    "        numbers.add(7);\n",
    "    \n",
    "        System.out.println(\"---------------------\");\n",
    "        System.out.println(\"Numbers greater than 2\");\n",
    "        numbers.stream()\n",
    "            .filter(number -> number > 2)\n",
    "            .forEach(number -> System.out.println(number));\n",
    "\n",
    "        System.out.println(\"---------------------\");\n",
    "        System.out.println(\"number size = \" + numbers.stream().count());\n",
    "\n",
    "        System.out.println(\"---------------------\");\n",
    "        Integer big = numbers.stream().max((n1,n2) -> Integer.compare(n1, n2)).get();\n",
    "        System.out.println(\"biggest number = \" + big);\n",
    "\n",
    "        System.out.println(\"---------------------\");\n",
    "        Integer small = numbers.stream().min((n1,n2) -> Integer.compare(n1, n2)).get();\n",
    "        System.out.println(\"smallest number = \" + small);\n",
    "\n",
    "        System.out.println(\"---------------------\");\n",
    "        System.out.println(\"Sorted\");\n",
    "        numbers.stream()\n",
    "            .sorted((n1,n2) -> Integer.compare(n1, n2))\n",
    "            .forEach(number -> System.out.println(number));\n",
    "\n",
    "        System.out.println(\"---------------------\");\n",
    "        Integer total = numbers.stream()\n",
    "            .collect(Collectors.summingInt(i -> i))\n",
    "            .intValue();\n",
    "        System.out.println(\"Total \" + total);\n",
    "\n",
    "        System.out.println(\"---------------------\");\n",
    "        String summary = numbers.stream()\n",
    "            .collect(Collectors.summarizingInt(i -> i))\n",
    "            .toString();\n",
    "        System.out.println(\"Summary \" + summary);\n",
    "\n",
    "        System.out.println(\"---------------------\");\n",
    "        System.out.println(\"Squares\");\n",
    "        numbers.stream()\n",
    "            .map(i -> i * i)\n",
    "            .forEach(i -> System.out.println(i));\n",
    "\n",
    "        System.out.println(\"---------------------\");\n",
    "        System.out.println(\"Growth\");\n",
    "        numbers.stream()\n",
    "            .flatMap(i -> build(i))\n",
    "            .sorted()\n",
    "            .forEach(i -> System.out.println(i));\n",
    "\n",
    "        System.out.println(\"---------------------\");\n",
    "        System.out.println(\"Distinct growth\");\n",
    "        numbers.stream()\n",
    "            .flatMap(i -> build(i))\n",
    "            .sorted()\n",
    "            .distinct()\n",
    "            .forEach(i -> System.out.println(i));\n",
    "    }\n",
    "}\n",
    "\n",
    "new MyStreams().main();"
   ]
  },
  {
   "cell_type": "code",
   "execution_count": 3,
   "metadata": {},
   "outputs": [
    {
     "data": {
      "text/plain": [
       "[/usr/share/java/tagsoup.jar, /usr/share/java/jline.jar, /usr/share/java/js.jar, /usr/share/java/rhino-examples.jar, /usr/share/java/rhino.jar, /usr/share/java/icedtea-web-plugin.jar, /usr/share/java/icedtea-web.jar]"
      ]
     },
     "execution_count": 3,
     "metadata": {},
     "output_type": "execute_result"
    }
   ],
   "source": [
    "List<String> added = %jars /usr/share/java/*.jar\n",
    "added"
   ]
  },
  {
   "cell_type": "code",
   "execution_count": 11,
   "metadata": {},
   "outputs": [
    {
     "data": {
      "text/plain": [
       "[/usr/lib/jvm/java-11-openjdk-11.0.7.10-4.el7_8.x86_64/lib/jrt-fs.jar]"
      ]
     },
     "execution_count": 11,
     "metadata": {},
     "output_type": "execute_result"
    }
   ],
   "source": [
    "List<String> added = %jars /usr/lib/jvm/java-11-openjdk-11.0.7.10-4.el7_8.x86_64/lib/*.jar\n",
    "added"
   ]
  },
  {
   "cell_type": "code",
   "execution_count": 2,
   "metadata": {},
   "outputs": [
    {
     "ename": "EvalException",
     "evalue": "Undefined cell magic 'file'",
     "output_type": "error",
     "traceback": [
      "\u001b[1m\u001b[31m---------------------------------------------------------------------------\u001b[0m",
      "\u001b[1m\u001b[31mio.github.spencerpark.jupyter.kernel.magic.registry.UndefinedMagicException: Undefined cell magic 'file'\u001b[0m",
      "\u001b[1m\u001b[31m\tat io.github.spencerpark.jupyter.kernel.magic.registry.Magics.applyCellMagic(Magics.java:34)\u001b[0m",
      "\u001b[1m\u001b[31m\tat io.github.spencerpark.ijava.runtime.Magics.cellMagic(Magics.java:31)\u001b[0m",
      "\u001b[1m\u001b[31m\tat .(#16:1)\u001b[0m"
     ]
    }
   ],
   "source": [
    "%%file sumn.java\n",
    "public class SumNatural {\n",
    "    public static void main(String[] args) {\n",
    "        int num = 100, sum = 0;\n",
    "        for(int i = 1; i <= num; ++i)\n",
    "        {\n",
    "            // sum = sum + i;\n",
    "            sum += i;\n",
    "        }\n",
    "        System.out.println(\"Sum = \" + sum);\n",
    "    }\n",
    " }\n"
   ]
  },
  {
   "cell_type": "code",
   "execution_count": 3,
   "metadata": {},
   "outputs": [
    {
     "name": "stdout",
     "output_type": "stream",
     "text": [
      "Sum = 5050\n"
     ]
    }
   ],
   "source": [
    "#https://stackoverflow.com/questions/61676773/how-to-compile-and-run-java-program-on-jupyter\n",
    "int num = 100, sum = 0;\n",
    "        for(int i = 1; i <= num; ++i)\n",
    "        {\n",
    "            // sum = sum + i;\n",
    "            sum += i;\n",
    "        }\n",
    "        System.out.println(\"Sum = \" + sum);"
   ]
  },
  {
   "cell_type": "code",
   "execution_count": 7,
   "metadata": {},
   "outputs": [
    {
     "name": "stdout",
     "output_type": "stream",
     "text": [
      "Welcome to Calligo\n"
     ]
    }
   ],
   "source": [
    "String my_greeting = \"Welcome to Calligo\";\n",
    "System.out.println(my_greeting);"
   ]
  },
  {
   "cell_type": "code",
   "execution_count": 9,
   "metadata": {},
   "outputs": [
    {
     "name": "stdout",
     "output_type": "stream",
     "text": [
      "[Steve, Tim, Lucy, Pat, Angela, Tom]\n",
      "[Steve, Tim, Lucy, Steve, Pat, Angela, Tom]\n"
     ]
    }
   ],
   "source": [
    "import java.util.*;  \n",
    "\n",
    "      ArrayList<String> alist=new ArrayList<String>();  \n",
    "      alist.add(\"Steve\");\n",
    "      alist.add(\"Tim\");\n",
    "      alist.add(\"Lucy\");\n",
    "      alist.add(\"Pat\");\n",
    "      alist.add(\"Angela\");\n",
    "      alist.add(\"Tom\");\n",
    "  \n",
    "      //displaying elements\n",
    "      System.out.println(alist);\n",
    "  \n",
    "      //Adding \"Steve\" at the fourth position\n",
    "      alist.add(3, \"Steve\");\n",
    "  \n",
    "      //displaying elements\n",
    "      System.out.println(alist);\n"
   ]
  }
 ],
 "metadata": {
  "kernelspec": {
   "display_name": "Java",
   "language": "java",
   "name": "java"
  },
  "language_info": {
   "codemirror_mode": "java",
   "file_extension": ".jshell",
   "mimetype": "text/x-java-source",
   "name": "Java",
   "pygments_lexer": "java",
   "version": "11.0.7+10-LTS"
  }
 },
 "nbformat": 4,
 "nbformat_minor": 4
}
