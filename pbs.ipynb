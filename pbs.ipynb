{
 "cells": [
  {
   "cell_type": "code",
   "execution_count": 2,
   "metadata": {},
   "outputs": [
    {
     "name": "stdout",
     "output_type": "stream",
     "text": [
      "\n",
      "server: master.calligotech.com\n",
      "\n",
      "Queue            Memory CPU Time Walltime Node   Run   Que   Lm  State\n",
      "---------------- ------ -------- -------- ---- ----- ----- ----  -----\n",
      "workq              --      --       --     --      0     0   --   E R\n",
      "                                               ----- -----\n",
      "                                                   0     0\n"
     ]
    }
   ],
   "source": [
    "!qstat -q"
   ]
  },
  {
   "cell_type": "code",
   "execution_count": 8,
   "metadata": {},
   "outputs": [
    {
     "name": "stdout",
     "output_type": "stream",
     "text": [
      "1060.master.calligotech.com\n"
     ]
    }
   ],
   "source": [
    "!qsub testjob.pbs"
   ]
  },
  {
   "cell_type": "code",
   "execution_count": 9,
   "metadata": {},
   "outputs": [
    {
     "name": "stdout",
     "output_type": "stream",
     "text": [
      "\n",
      "master.calligotech.com: \n",
      "                                                            Req'd  Req'd   Elap\n",
      "Job ID          Username Queue    Jobname    SessID NDS TSK Memory Time  S Time\n",
      "--------------- -------- -------- ---------- ------ --- --- ------ ----- - -----\n",
      "1057.master.cal zain     workq    STDIN        5779   1   1    --    --  F 00:00\n",
      "1058.master.cal zain     workq    test.job     8144   1   1    --    --  F 00:00\n",
      "1059.master.cal zain     workq    test.job     8819   1   1    --    --  F 00:00\n",
      "1060.master.cal zain     workq    testjob.pb   9126   1   1    --    --  F 00:00\n"
     ]
    }
   ],
   "source": [
    "!qstat -H"
   ]
  },
  {
   "cell_type": "code",
   "execution_count": 10,
   "metadata": {},
   "outputs": [
    {
     "name": "stdout",
     "output_type": "stream",
     "text": [
      "pbs.ipynb  STDIN.e1057\t   test.job.e1059  testjob.pbs\n",
      "PY3.ipynb  STDIN.o1057\t   test.job.o1058  testjob.pbs.e1060\n",
      "R3.ipynb   test.job.e1058  test.job.o1059  testjob.pbs.o1060\n"
     ]
    }
   ],
   "source": [
    "!ls"
   ]
  },
  {
   "cell_type": "code",
   "execution_count": 12,
   "metadata": {},
   "outputs": [
    {
     "name": "stdout",
     "output_type": "stream",
     "text": [
      "------------------------------------------------------\n",
      "Job is running on node master.calligotech.com\n",
      "------------------------------------------------------\n",
      "PBS: qsub is running on master.calligotech.com\n",
      "PBS: originating queue is workq\n",
      "PBS: executing queue is workq\n",
      "PBS: working directory is /export/home/zain\n",
      "PBS: execution mode is PBS_BATCH\n",
      "PBS: job identifier is 1060.master.calligotech.com\n",
      "PBS: job name is testjob.pbs\n",
      "PBS: node file is /var/spool/pbs/aux/1060.master.calligotech.com\n",
      "PBS: current home directory is /export/home/zain\n",
      "------------------------------------------------------\n",
      "Working directory is /export/home/zain\n",
      "Running on host master.calligotech.com\n",
      "Time is Tue May 26 16:14:57 IST 2020\n",
      "Directory is /export/home/zain\n",
      "Using 1 processors across 1 nodes\n",
      "------------------------------------------------------\n"
     ]
    }
   ],
   "source": [
    "!cat testjob.pbs.o1060"
   ]
  }
 ],
 "metadata": {
  "kernelspec": {
   "display_name": "Python 3",
   "language": "python",
   "name": "python3"
  },
  "language_info": {
   "codemirror_mode": {
    "name": "ipython",
    "version": 3
   },
   "file_extension": ".py",
   "mimetype": "text/x-python",
   "name": "python",
   "nbconvert_exporter": "python",
   "pygments_lexer": "ipython3",
   "version": "3.6.9"
  }
 },
 "nbformat": 4,
 "nbformat_minor": 4
}
