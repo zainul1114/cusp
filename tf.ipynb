{
 "cells": [
  {
   "cell_type": "code",
   "execution_count": 2,
   "metadata": {},
   "outputs": [
    {
     "name": "stdout",
     "output_type": "stream",
     "text": [
      "Epoch 1/5\n",
      "60000/60000 [==============================] - 11s 182us/sample - loss: 0.2190 - acc: 0.9350\n",
      "Epoch 2/5\n",
      "60000/60000 [==============================] - 10s 175us/sample - loss: 0.0974 - acc: 0.9706\n",
      "Epoch 3/5\n",
      "60000/60000 [==============================] - 11s 190us/sample - loss: 0.0681 - acc: 0.9786\n",
      "Epoch 4/5\n",
      "60000/60000 [==============================] - 11s 186us/sample - loss: 0.0514 - acc: 0.9839\n",
      "Epoch 5/5\n",
      "60000/60000 [==============================] - 12s 195us/sample - loss: 0.0428 - acc: 0.9864\n",
      "10000/10000 [==============================] - 1s 90us/sample - loss: 0.0659 - acc: 0.9792\n"
     ]
    },
    {
     "data": {
      "text/plain": [
       "[0.06589935277262703, 0.9792]"
      ]
     },
     "execution_count": 2,
     "metadata": {},
     "output_type": "execute_result"
    }
   ],
   "source": [
    "#Import TensorFlow into your program\n",
    "import tensorflow as tf\n",
    "#Load and prepare the MNIST.dataset. Convert the samples from integers to floating-point numbers\n",
    "mnist = tf.keras.datasets.mnist\n",
    "(x_train, y_train),(x_test, y_test) = mnist.load_data()\n",
    "x_train, x_test = x_train / 255.0, x_test / 255.0\n",
    "#Build the tf.keras.Sequential model by stacking layers. Choose an optimizer and loss function for training\n",
    "model = tf.keras.models.Sequential([\n",
    "  tf.keras.layers.Flatten(input_shape=(28, 28)),\n",
    "  tf.keras.layers.Dense(512, activation=tf.nn.relu),\n",
    "  tf.keras.layers.Dropout(0.2),\n",
    "  tf.keras.layers.Dense(10, activation=tf.nn.softmax)\n",
    "])\n",
    "model.compile(optimizer='adam',\n",
    "              loss='sparse_categorical_crossentropy',\n",
    "              metrics=['accuracy'])\n",
    "#Train and evaluate the model\n",
    "model.fit(x_train, y_train, epochs=5)\n",
    "model.evaluate(x_test, y_test)"
   ]
  },
  {
   "cell_type": "code",
   "execution_count": 10,
   "metadata": {},
   "outputs": [
    {
     "data": {
      "application/vnd.jupyter.widget-view+json": {
       "model_id": "32ebcc26c1324578962ff76f81da07f1",
       "version_major": 2,
       "version_minor": 0
      },
      "text/plain": [
       "interactive(children=(FloatSlider(value=2.0, description='n', max=10.0, min=1.0, step=0.5), Output()), _dom_cl…"
      ]
     },
     "metadata": {},
     "output_type": "display_data"
    },
    {
     "data": {
      "text/plain": [
       "<function __main__.nsin(n=2.0)>"
      ]
     },
     "execution_count": 10,
     "metadata": {},
     "output_type": "execute_result"
    }
   ],
   "source": [
    "from ipywidgets import *\n",
    "import pylab\n",
    "import numpy as np\n",
    "%matplotlib inline\n",
    "nx = 200\n",
    "x = np.arange(0, nx, 1)*(2*np.pi)/nx\n",
    "def nsin(n = 2.):\n",
    "    pylab.plot(np.sin(n*x))\n",
    "interact(nsin, n=(1., 10., .5))"
   ]
  },
  {
   "cell_type": "code",
   "execution_count": 1,
   "metadata": {},
   "outputs": [
    {
     "name": "stdout",
     "output_type": "stream",
     "text": [
      " 15:51:27 up  1:14,  3 users,  load average: 0.00, 0.01, 0.05\n"
     ]
    }
   ],
   "source": [
    "!uptime"
   ]
  },
  {
   "cell_type": "code",
   "execution_count": null,
   "metadata": {
    "jupyter": {
     "source_hidden": true
    }
   },
   "outputs": [],
   "source": []
  },
  {
   "cell_type": "code",
   "execution_count": 3,
   "metadata": {},
   "outputs": [
    {
     "name": "stdout",
     "output_type": "stream",
     "text": [
      "master\n",
      "     state = free\n",
      "     power_state = Running\n",
      "     np = 2\n",
      "     ntype = cluster\n",
      "     status = opsys=linux,uname=Linux master 3.10.0-1062.el7.x86_64 #1 SMP Wed Aug 7 18:08:02 UTC 2019 x86_64,sessions=1699 1706 1761 1932 2365 14616 14695 15504,nsessions=8,nusers=3,idletime=4523,totmem=4144012kb,availmem=3112676kb,physmem=2046864kb,ncpus=2,loadave=0.00,gres=,netload=48956980,state=free,varattr= ,cpuclock=Fixed,macaddr=08:00:27:fa:9e:db,version=6.1.2,rectime=1586686942,jobs=\n",
      "     mom_service_port = 15002\n",
      "     mom_manager_port = 15003\n",
      "\n"
     ]
    }
   ],
   "source": [
    "!pbsnodes -a"
   ]
  },
  {
   "cell_type": "code",
   "execution_count": 4,
   "metadata": {},
   "outputs": [
    {
     "name": "stdout",
     "output_type": "stream",
     "text": [
      "41.master\n"
     ]
    }
   ],
   "source": [
    "!qsub testjob.sh"
   ]
  },
  {
   "cell_type": "code",
   "execution_count": 5,
   "metadata": {},
   "outputs": [
    {
     "name": "stdout",
     "output_type": "stream",
     "text": [
      "38.master.ER  41.master.ER  \u001b[0m\u001b[01;34mDownloads\u001b[0m/  \u001b[01;34mPublic\u001b[0m/             testjob.sh\n",
      "38.master.OU  41.master.OU  \u001b[01;34mjhub\u001b[0m/       STDIN.o36           tf.ipynb\n",
      "40.master.ER  \u001b[01;34mDesktop\u001b[0m/      \u001b[01;34mMusic\u001b[0m/      \u001b[01;34mTemplates\u001b[0m/          \u001b[01;34mVideos\u001b[0m/\n",
      "40.master.OU  \u001b[01;34mDocuments\u001b[0m/    \u001b[01;34mPictures\u001b[0m/   tensorflow-test.py\n"
     ]
    }
   ],
   "source": [
    "ls"
   ]
  },
  {
   "cell_type": "code",
   "execution_count": 6,
   "metadata": {},
   "outputs": [
    {
     "name": "stdout",
     "output_type": "stream",
     "text": [
      "Sun Apr 12 15:58:41 IST 2020\n",
      "Welcome to Calligo Technologies.. \n"
     ]
    }
   ],
   "source": [
    "!cat 41.master.OU"
   ]
  },
  {
   "cell_type": "code",
   "execution_count": 1,
   "metadata": {},
   "outputs": [
    {
     "name": "stdout",
     "output_type": "stream",
     "text": [
      "\n",
      "master: \n",
      "                                                                                  Req'd       Req'd       Elap\n",
      "Job ID                  Username    Queue    Jobname          SessID  NDS   TSK   Memory      Time    S   Time\n",
      "----------------------- ----------- -------- ---------------- ------ ----- ------ --------- --------- - ---------\n",
      "42.master               zain        batch    STDIN             23829     1      1       --   01:00:00 C       -- \n",
      "   master/0\n",
      "   Job started on Sun Apr 12 at 16:15\n",
      "43.master               zain        batch    STDIN             24068     1      1       --   01:00:00 C       -- \n",
      "   master/0\n",
      "   Job started on Sun Apr 12 at 16:16\n"
     ]
    }
   ],
   "source": [
    "!qstat -ans"
   ]
  },
  {
   "cell_type": "code",
   "execution_count": 2,
   "metadata": {},
   "outputs": [
    {
     "name": "stdout",
     "output_type": "stream",
     "text": [
      "master\n",
      "     state = free\n",
      "     power_state = Running\n",
      "     np = 2\n",
      "     ntype = cluster\n",
      "     status = opsys=linux,uname=Linux master 3.10.0-1062.el7.x86_64 #1 SMP Wed Aug 7 18:08:02 UTC 2019 x86_64,sessions=1699 1706 1761 1932 2365 23292 23371 23418,nsessions=8,nusers=3,idletime=6008,totmem=4144012kb,availmem=3111592kb,physmem=2046864kb,ncpus=2,loadave=0.01,gres=,netload=64372340,state=free,varattr= ,cpuclock=Fixed,macaddr=08:00:27:fa:9e:db,version=6.1.2,rectime=1586688427,jobs=\n",
      "     mom_service_port = 15002\n",
      "     mom_manager_port = 15003\n",
      "\n"
     ]
    }
   ],
   "source": [
    "!pbsnodes -a"
   ]
  },
  {
   "cell_type": "code",
   "execution_count": 3,
   "metadata": {},
   "outputs": [
    {
     "name": "stdout",
     "output_type": "stream",
     "text": [
      "44.master\n"
     ]
    }
   ],
   "source": [
    "!qsub testjob.sh"
   ]
  },
  {
   "cell_type": "code",
   "execution_count": 4,
   "metadata": {},
   "outputs": [
    {
     "name": "stdout",
     "output_type": "stream",
     "text": [
      "\n",
      "master: \n",
      "                                                                                  Req'd       Req'd       Elap\n",
      "Job ID                  Username    Queue    Jobname          SessID  NDS   TSK   Memory      Time    S   Time\n",
      "----------------------- ----------- -------- ---------------- ------ ----- ------ --------- --------- - ---------\n",
      "44.master               zain        batch    ExampleJob        28738     1      1       --   00:01:00 C       -- \n",
      "   master/0\n",
      "   Job started on Sun Apr 12 at 16:35\n"
     ]
    }
   ],
   "source": [
    "!qstat -ans"
   ]
  },
  {
   "cell_type": "code",
   "execution_count": 5,
   "metadata": {},
   "outputs": [
    {
     "name": "stdout",
     "output_type": "stream",
     "text": [
      "Sun Apr 12 16:35:36 IST 2020\n",
      "Welcome to Calligo Technologies.. \n"
     ]
    }
   ],
   "source": [
    "!cat 44.master.OU"
   ]
  },
  {
   "cell_type": "code",
   "execution_count": 6,
   "metadata": {},
   "outputs": [
    {
     "name": "stdout",
     "output_type": "stream",
     "text": [
      "38.master.ER  41.master.OU  44.master.ER  \u001b[0m\u001b[01;34mjhub\u001b[0m/      \u001b[01;34mTemplates\u001b[0m/\n",
      "38.master.OU  42.master.ER  44.master.OU  \u001b[01;34mMusic\u001b[0m/     tensorflow-test.py\n",
      "40.master.ER  42.master.OU  \u001b[01;34mDesktop\u001b[0m/      \u001b[01;34mPictures\u001b[0m/  testjob.sh\n",
      "40.master.OU  43.master.ER  \u001b[01;34mDocuments\u001b[0m/    \u001b[01;34mPublic\u001b[0m/    tf.ipynb\n",
      "41.master.ER  43.master.OU  \u001b[01;34mDownloads\u001b[0m/    STDIN.o36  \u001b[01;34mVideos\u001b[0m/\n"
     ]
    }
   ],
   "source": [
    "ls"
   ]
  },
  {
   "cell_type": "code",
   "execution_count": 7,
   "metadata": {},
   "outputs": [
    {
     "name": "stdout",
     "output_type": "stream",
     "text": [
      "master\n",
      "     state = free\n",
      "     power_state = Running\n",
      "     np = 2\n",
      "     ntype = cluster\n",
      "     status = opsys=linux,uname=Linux master 3.10.0-1062.el7.x86_64 #1 SMP Wed Aug 7 18:08:02 UTC 2019 x86_64,sessions=1699 1706 1761 1932 2365 23292 23371 23418,nsessions=8,nusers=3,idletime=7180,totmem=4144012kb,availmem=3077772kb,physmem=2046864kb,ncpus=2,loadave=0.04,gres=,netload=67275010,state=free,varattr= ,cpuclock=Fixed,macaddr=08:00:27:fa:9e:db,version=6.1.2,rectime=1586689599,jobs=\n",
      "     mom_service_port = 15002\n",
      "     mom_manager_port = 15003\n",
      "\n"
     ]
    }
   ],
   "source": [
    "!pbsnodes -a"
   ]
  },
  {
   "cell_type": "code",
   "execution_count": 8,
   "metadata": {},
   "outputs": [
    {
     "name": "stdout",
     "output_type": "stream",
     "text": [
      "Server             Max   Tot   Que   Run   Hld   Wat   Trn   Ext   Com Status    \n",
      "----------------   ---   ---   ---   ---   ---   ---   ---   ---   --- ----------\n",
      "master               0     0     0     0     0     0     0     0     0 Active    \n"
     ]
    }
   ],
   "source": [
    "!qstat -B"
   ]
  },
  {
   "cell_type": "code",
   "execution_count": 2,
   "metadata": {},
   "outputs": [
    {
     "name": "stdout",
     "output_type": "stream",
     "text": [
      "45.master\n"
     ]
    }
   ],
   "source": [
    "!qsub testjob.sh"
   ]
  },
  {
   "cell_type": "code",
   "execution_count": 3,
   "metadata": {},
   "outputs": [
    {
     "name": "stdout",
     "output_type": "stream",
     "text": [
      "\n",
      "master: \n",
      "                                                                                  Req'd       Req'd       Elap\n",
      "Job ID                  Username    Queue    Jobname          SessID  NDS   TSK   Memory      Time    S   Time\n",
      "----------------------- ----------- -------- ---------------- ------ ----- ------ --------- --------- - ---------\n",
      "45.master               zain        batch    ExampleJob         4054     1      1       --   00:01:00 R  00:00:08\n",
      "   master/0\n",
      "   Job started on Sun Apr 12 at 20:19\n"
     ]
    }
   ],
   "source": [
    "!qstat -ans"
   ]
  },
  {
   "cell_type": "code",
   "execution_count": 6,
   "metadata": {},
   "outputs": [
    {
     "name": "stdout",
     "output_type": "stream",
     "text": [
      "\n",
      "master: \n",
      "                                                                                  Req'd       Req'd       Elap\n",
      "Job ID                  Username    Queue    Jobname          SessID  NDS   TSK   Memory      Time    S   Time\n",
      "----------------------- ----------- -------- ---------------- ------ ----- ------ --------- --------- - ---------\n",
      "45.master               zain        batch    ExampleJob         4054     1      1       --   00:01:00 C       -- \n",
      "   master/0\n",
      "   Job started on Sun Apr 12 at 20:19\n"
     ]
    }
   ],
   "source": [
    "!qstat -ans"
   ]
  },
  {
   "cell_type": "code",
   "execution_count": 8,
   "metadata": {},
   "outputs": [
    {
     "name": "stdout",
     "output_type": "stream",
     "text": [
      "Sun Apr 12 20:19:46 IST 2020\n",
      "Welcome to Calligo Technologies.. \n",
      "Epoch 1/5\n",
      "60000/60000 [==============================] - 9s 143us/sample - loss: 0.2212 - acc: 0.9349\n",
      "Epoch 2/5\n",
      "60000/60000 [==============================] - 8s 136us/sample - loss: 0.0969 - acc: 0.9700: 0.97\n",
      "Epoch 3/5\n",
      "60000/60000 [==============================] - 8s 138us/sample - loss: 0.0678 - acc: 0.9791\n",
      "Epoch 4/5\n",
      "60000/60000 [==============================] - 8s 135us/sample - loss: 0.0551 - acc: 0.9826\n",
      "Epoch 5/5\n",
      "60000/60000 [==============================] - 8s 136us/sample - loss: 0.0437 - acc: 0.9856\n",
      "10000/10000 [==============================] - 1s 63us/sample - loss: 0.0622 - acc: 0.9807\n"
     ]
    }
   ],
   "source": [
    "!cat 45.master.OU"
   ]
  },
  {
   "cell_type": "code",
   "execution_count": 4,
   "metadata": {},
   "outputs": [
    {
     "name": "stdout",
     "output_type": "stream",
     "text": [
      "Server             Max   Tot   Que   Run   Hld   Wat   Trn   Ext   Com Status    \n",
      "----------------   ---   ---   ---   ---   ---   ---   ---   ---   --- ----------\n",
      "master               0     1     0     1     0     0     0     0     0 Active    \n"
     ]
    }
   ],
   "source": [
    "!qstat -B"
   ]
  },
  {
   "cell_type": "code",
   "execution_count": 5,
   "metadata": {},
   "outputs": [
    {
     "name": "stdout",
     "output_type": "stream",
     "text": [
      "Job Id: 45.master\n",
      "    Job_Name = ExampleJob\n",
      "    Job_Owner = zain@master\n",
      "    resources_used.cput = 00:00:19\n",
      "    resources_used.energy_used = 0\n",
      "    resources_used.mem = 646312kb\n",
      "    resources_used.vmem = 2373148kb\n",
      "    resources_used.walltime = 00:00:33\n",
      "    job_state = R\n",
      "    queue = batch\n",
      "    server = master\n",
      "    Checkpoint = u\n",
      "    ctime = Sun Apr 12 20:19:45 2020\n",
      "    Error_Path = master:/home/zain/ExampleJob.e45\n",
      "    exec_host = master/0\n",
      "    Hold_Types = n\n",
      "    Join_Path = n\n",
      "    Keep_Files = n\n",
      "    Mail_Points = abe\n",
      "    Mail_Users = zainul.a@calligotech.com\n",
      "    mtime = Sun Apr 12 20:19:46 2020\n",
      "    Output_Path = master:/home/zain/ExampleJob.o45\n",
      "    Priority = 0\n",
      "    qtime = Sun Apr 12 20:19:45 2020\n",
      "    Rerunable = True\n",
      "    Resource_List.nodes = 1\n",
      "    Resource_List.walltime = 00:01:00\n",
      "    Resource_List.nodect = 1\n",
      "    session_id = 4054\n",
      "    Variable_List = PBS_O_QUEUE=batch,PBS_O_HOME=/home/zain,\n",
      "\tPBS_O_PATH=/share/apps/platform/ai/py36/3_6_9//bin:/share/apps/platfo\n",
      "\trm/ai/py36/3_6_9//include:/share/apps/platform/torque/bin:/share/apps/\n",
      "\tplatform/torque/sbin/:/share/apps/platform/ai/py36/3_6_9/bin/:/share/a\n",
      "\tpps/platform/torque/bin:/share/apps/platform/torque/sbin:/usr/local/sb\n",
      "\tin:/usr/local/bin:/usr/sbin:/usr/bin:/root/bin,PBS_O_SHELL=/bin/bash,\n",
      "\tPBS_O_LANG=en_US.UTF-8,PBS_O_WORKDIR=/home/zain,PBS_O_HOST=master,\n",
      "\tPBS_O_SERVER=master\n",
      "    euser = zain\n",
      "    egroup = zain\n",
      "    queue_type = E\n",
      "    comment = Job started on Sun Apr 12 at 20:19\n",
      "    etime = Sun Apr 12 20:19:45 2020\n",
      "    submit_args = testjob.sh\n",
      "    start_time = Sun Apr 12 20:19:46 2020\n",
      "    Walltime.Exceeded = -8\n",
      "    start_count = 1\n",
      "    fault_tolerant = False\n",
      "    job_radix = 0\n",
      "    submit_host = master\n",
      "    init_work_dir = /home/zain\n",
      "    request_version = 1\n",
      "\n"
     ]
    }
   ],
   "source": [
    "!qstat -f 45.master"
   ]
  },
  {
   "cell_type": "code",
   "execution_count": 9,
   "metadata": {},
   "outputs": [],
   "source": [
    "# %load testjob.sh\n",
    "#!/bin/sh\n",
    "#\n",
    "#This is an example script example.sh\n",
    "#\n",
    "#These commands set up the Grid Environment for your job:\n",
    "#PBS -N ExampleJob\n",
    "#PBS -l nodes=1,walltime=00:01:00\n",
    "#PBS -q batch\n",
    "#PBS -M zainul.a@calligotech.com\n",
    "#PBS -m abe\n",
    " \n",
    "#print the time and date\n",
    "date\n",
    "echo \"Welcome to Calligo Technologies.. \"\n",
    "\n",
    "module load python-3.6.9\n",
    "python3 tensorflow-test.py\n"
   ]
  },
  {
   "cell_type": "code",
   "execution_count": 1,
   "metadata": {},
   "outputs": [
    {
     "name": "stdout",
     "output_type": "stream",
     "text": [
      "46.master\n"
     ]
    }
   ],
   "source": [
    "!qsub testjob.sh"
   ]
  },
  {
   "cell_type": "code",
   "execution_count": 3,
   "metadata": {},
   "outputs": [
    {
     "name": "stdout",
     "output_type": "stream",
     "text": [
      "\n",
      "master: \n",
      "                                                                                  Req'd       Req'd       Elap\n",
      "Job ID                  Username    Queue    Jobname          SessID  NDS   TSK   Memory      Time    S   Time\n",
      "----------------------- ----------- -------- ---------------- ------ ----- ------ --------- --------- - ---------\n",
      "46.master               zain        batch    ExampleJob         7388     1      1       --   00:01:00 R  00:00:58\n",
      "   master/0\n",
      "   Job started on Tue Apr 14 at 15:17\n"
     ]
    }
   ],
   "source": [
    "!qstat -ans"
   ]
  },
  {
   "cell_type": "code",
   "execution_count": 4,
   "metadata": {},
   "outputs": [
    {
     "name": "stdout",
     "output_type": "stream",
     "text": [
      "Tue Apr 14 15:17:21 IST 2020\n",
      "Welcome to Calligo Technologies.. \n",
      "Epoch 1/5\n",
      "60000/60000 [==============================] - 12s 196us/sample - loss: 0.2218 - acc: 0.9340\n",
      "Epoch 2/5\n",
      "60000/60000 [==============================] - 11s 185us/sample - loss: 0.0974 - acc: 0.9703\n",
      "Epoch 3/5\n",
      "60000/60000 [==============================] - 11s 190us/sample - loss: 0.0707 - acc: 0.9774\n",
      "Epoch 4/5\n",
      "60000/60000 [==============================] - 12s 193us/sample - loss: 0.0530 - acc: 0.9831\n",
      "Epoch 5/5\n",
      "60000/60000 [==============================] - 11s 190us/sample - loss: 0.0425 - acc: 0.9857.986\n",
      "10000/10000 [==============================] - 1s 81us/sample - loss: 0.0578 - acc: 0.9832\n"
     ]
    }
   ],
   "source": [
    "!cat 46.master.OU"
   ]
  },
  {
   "cell_type": "code",
   "execution_count": 4,
   "metadata": {},
   "outputs": [
    {
     "name": "stdout",
     "output_type": "stream",
     "text": [
      "/usr/bin/sh: module: command not found\n"
     ]
    }
   ],
   "source": [
    "!module list"
   ]
  },
  {
   "cell_type": "code",
   "execution_count": null,
   "metadata": {},
   "outputs": [],
   "source": []
  },
  {
   "cell_type": "code",
   "execution_count": null,
   "metadata": {},
   "outputs": [],
   "source": []
  },
  {
   "cell_type": "code",
   "execution_count": null,
   "metadata": {},
   "outputs": [],
   "source": []
  },
  {
   "cell_type": "code",
   "execution_count": null,
   "metadata": {},
   "outputs": [],
   "source": []
  },
  {
   "cell_type": "code",
   "execution_count": 1,
   "metadata": {},
   "outputs": [
    {
     "name": "stdout",
     "output_type": "stream",
     "text": [
      "master\n",
      "     state = free\n",
      "     power_state = Running\n",
      "     np = 2\n",
      "     ntype = cluster\n",
      "     status = opsys=linux,uname=Linux master 3.10.0-1062.el7.x86_64 #1 SMP Wed Aug 7 18:08:02 UTC 2019 x86_64,sessions=1692 1699 1754 1927,nsessions=4,nusers=2,idletime=277,totmem=4144012kb,availmem=3320172kb,physmem=2046864kb,ncpus=2,loadave=0.49,gres=,netload=12152177,state=free,varattr= ,cpuclock=Fixed,macaddr=08:00:27:fa:9e:db,version=6.1.2,rectime=1587829992,jobs=\n",
      "     mom_service_port = 15002\n",
      "     mom_manager_port = 15003\n",
      "\n"
     ]
    }
   ],
   "source": [
    "!pbsnodes -a"
   ]
  }
 ],
 "metadata": {
  "kernelspec": {
   "display_name": "Python 3",
   "language": "python",
   "name": "python3"
  },
  "language_info": {
   "codemirror_mode": {
    "name": "ipython",
    "version": 3
   },
   "file_extension": ".py",
   "mimetype": "text/x-python",
   "name": "python",
   "nbconvert_exporter": "python",
   "pygments_lexer": "ipython3",
   "version": "3.6.9"
  }
 },
 "nbformat": 4,
 "nbformat_minor": 4
}
